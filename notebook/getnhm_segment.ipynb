{
 "cells": [
  {
   "cell_type": "markdown",
   "id": "limited-reverse",
   "metadata": {},
   "source": [
    "# Initial demo of model output via Thredds and NLDI\n",
    "* demo uses siphon to search existing thredds catalog of onhm ouput (note this is still very experimental).  \n",
    "* seg_outflow is assigned to a variable\n",
    "* oNHM data for GFv1.1 is read locally - primarily the POIs.  Currently this is the missing functionality, ultimately would like this to be searchable through NLDI (best) or perhaps through WFS on sciencebase (acceptable). POIs provide the cross-walk between the specific model fabric, and the common NHD+ fabric.\n",
    "* NLDI is searched for all gages and streamsegments upstream of gage 06759500 on the S. Platte River at Fort Morgan.\n",
    "* GFv1.1 POI is filtered by returned comids from search above.\n",
    "* Further this is filtered for POIs that are gages(eg. poi.Type_Gage > 0)\n",
    "* Example comparison is given for observed and simulated streamflow \n",
    "\n",
    "We use existing packages to search NLDI and NWIS, and THREDDS"
   ]
  },
  {
   "cell_type": "code",
   "execution_count": 1,
   "id": "convertible-circular",
   "metadata": {},
   "outputs": [],
   "source": [
    "import py3dep\n",
    "from pynhd import NLDI, NHDPlusHR, WaterData\n",
    "import xarray as xr\n",
    "from matplotlib import pyplot as plt\n",
    "import numpy as np\n",
    "import pandas as pd\n",
    "import geopandas as gpd\n",
    "from pathlib import Path\n",
    "import dataretrieval.nwis as nwis\n",
    "from siphon.catalog import TDSCatalog"
   ]
  },
  {
   "cell_type": "code",
   "execution_count": 2,
   "id": "changing-neighborhood",
   "metadata": {},
   "outputs": [],
   "source": [
    "# Current test location of NHM ouput\n",
    "catalog = TDSCatalog(\"http://gdp-netcdfdev.cr.usgs.gov:8080/thredds/catalog/ONHM_OUTPUT/files/catalog.xml\")"
   ]
  },
  {
   "cell_type": "code",
   "execution_count": 3,
   "id": "loose-bookmark",
   "metadata": {},
   "outputs": [
    {
     "name": "stdout",
     "output_type": "stream",
     "text": [
      "\n",
      "Catalog information\n",
      "-------------------\n",
      "\n",
      "Base THREDDS URL: http://gdp-netcdfdev.cr.usgs.gov:8080\n",
      "Catalog name: No name found\n",
      "Catalog URL: http://gdp-netcdfdev.cr.usgs.gov:8080/thredds/catalog/ONHM_OUTPUT/files/catalog.xml\n",
      "Metadata: {'inherited': True, 'serviceName': 'all'}\n",
      "\n"
     ]
    }
   ],
   "source": [
    "info = \"\"\"\n",
    "Catalog information\n",
    "-------------------\n",
    "\n",
    "Base THREDDS URL: {}\n",
    "Catalog name: {}\n",
    "Catalog URL: {}\n",
    "Metadata: {}\n",
    "\"\"\".format(\n",
    "    catalog.base_tds_url, catalog.catalog_name, catalog.catalog_url, catalog.metadata\n",
    ")\n",
    "\n",
    "print(info)"
   ]
  },
  {
   "cell_type": "code",
   "execution_count": 4,
   "id": "trying-banking",
   "metadata": {},
   "outputs": [
    {
     "name": "stdout",
     "output_type": "stream",
     "text": [
      "all\n"
     ]
    }
   ],
   "source": [
    "for service in catalog.services:\n",
    "    print(service.name)"
   ]
  },
  {
   "cell_type": "code",
   "execution_count": 5,
   "id": "amber-african",
   "metadata": {},
   "outputs": [
    {
     "name": "stdout",
     "output_type": "stream",
     "text": [
      "unused_potet.nc\n",
      "transp_on.nc\n",
      "tminf.nc\n",
      "tmaxf.nc\n",
      "tavgf.nc\n",
      "swrad.nc\n",
      "ssres_flow.nc\n",
      "sroff.nc\n",
      "soil_to_ssr.nc\n",
      "soil_to_gw.nc\n",
      "soil_rechr.nc\n",
      "soil_moist_tot.nc\n",
      "soil_moist.nc\n",
      "snowmelt.nc\n",
      "snowcov_area.nc\n",
      "snow_free.nc\n",
      "snow_evap.nc\n",
      "slow_stor.nc\n",
      "slow_flow.nc\n",
      "seg_width.nc\n",
      "seg_tave_water.nc\n",
      "seg_tave_upstream.nc\n",
      "seg_tave_sroff.nc\n",
      "seg_tave_lat.nc\n",
      "seg_tave_gw.nc\n",
      "seg_tave_air.nc\n",
      "seg_shade.nc\n",
      "seg_outflow.nc\n",
      "recharge.nc\n",
      "prmx.nc\n",
      "pref_flow_stor.nc\n",
      "pref_flow.nc\n",
      "potet.nc\n",
      "pkwater_equiv.nc\n",
      "pk_temp.nc\n",
      "pk_precip.nc\n",
      "pk_ice.nc\n",
      "pk_depth.nc\n",
      "perv_actet.nc\n",
      "newsnow.nc\n",
      "net_snow.nc\n",
      "net_rain.nc\n",
      "net_ppt.nc\n",
      "intcp_on.nc\n",
      "infil.nc\n",
      "hru_streamflow_out.nc\n",
      "hru_sroffp.nc\n",
      "hru_sroffi.nc\n",
      "hru_snow.nc\n",
      "hru_rain.nc\n",
      "hru_ppt.nc\n",
      "hru_outflow.nc\n",
      "hru_lateral_flow.nc\n",
      "hru_intcpstor.nc\n",
      "hru_intcpevap.nc\n",
      "hru_impervstor.nc\n",
      "hru_impervevap.nc\n",
      "hru_actet.nc\n",
      "hortonian_flow.nc\n",
      "gwres_stor.nc\n",
      "gwres_in.nc\n",
      "gwres_flow.nc\n",
      "freeh2o.nc\n",
      "dunnian_flow.nc\n",
      "dprst_vol_open_frac.nc\n",
      "dprst_vol_open.nc\n",
      "dprst_stor_hru.nc\n",
      "dprst_sroff_hru.nc\n",
      "dprst_seep_hru.nc\n",
      "dprst_insroff_hru.nc\n",
      "dprst_evap_hru.nc\n",
      "dprst_area_open.nc\n",
      "contrib_fraction.nc\n",
      "cap_waterin.nc\n",
      "albedo.nc\n"
     ]
    }
   ],
   "source": [
    "print(\"\\n\".join(catalog.datasets.keys()))"
   ]
  },
  {
   "cell_type": "code",
   "execution_count": 6,
   "id": "digital-counter",
   "metadata": {},
   "outputs": [
    {
     "name": "stdout",
     "output_type": "stream",
     "text": [
      "seg_outflow.nc ONHM_OUTPUT/files/seg_outflow.nc {'OPENDAP': 'http://gdp-netcdfdev.cr.usgs.gov:8080/thredds/dodsC/ONHM_OUTPUT/files/seg_outflow.nc', 'UDDC': 'http://gdp-netcdfdev.cr.usgs.gov:8080/thredds/uddc/ONHM_OUTPUT/files/seg_outflow.nc', 'ISO': 'http://gdp-netcdfdev.cr.usgs.gov:8080/thredds/iso/ONHM_OUTPUT/files/seg_outflow.nc', 'NCML': 'http://gdp-netcdfdev.cr.usgs.gov:8080/thredds/ncml/ONHM_OUTPUT/files/seg_outflow.nc', 'NetcdfSubset': 'http://gdp-netcdfdev.cr.usgs.gov:8080/thredds/ncss/ONHM_OUTPUT/files/seg_outflow.nc'} <class 'siphon.catalog.Dataset'>\n"
     ]
    }
   ],
   "source": [
    "dataset = 'seg_outflow.nc'\n",
    "ds = catalog.datasets[dataset]\n",
    "print(ds.name, ds.url_path, ds.access_urls, type(ds))"
   ]
  },
  {
   "cell_type": "code",
   "execution_count": 7,
   "id": "impaired-firmware",
   "metadata": {},
   "outputs": [],
   "source": [
    "data = ds.remote_access(service='OPENDAP', use_xarray=True)"
   ]
  },
  {
   "cell_type": "code",
   "execution_count": 8,
   "id": "bright-mortgage",
   "metadata": {},
   "outputs": [
    {
     "data": {
      "text/html": [
       "<div><svg style=\"position: absolute; width: 0; height: 0; overflow: hidden\">\n",
       "<defs>\n",
       "<symbol id=\"icon-database\" viewBox=\"0 0 32 32\">\n",
       "<path d=\"M16 0c-8.837 0-16 2.239-16 5v4c0 2.761 7.163 5 16 5s16-2.239 16-5v-4c0-2.761-7.163-5-16-5z\"></path>\n",
       "<path d=\"M16 17c-8.837 0-16-2.239-16-5v6c0 2.761 7.163 5 16 5s16-2.239 16-5v-6c0 2.761-7.163 5-16 5z\"></path>\n",
       "<path d=\"M16 26c-8.837 0-16-2.239-16-5v6c0 2.761 7.163 5 16 5s16-2.239 16-5v-6c0 2.761-7.163 5-16 5z\"></path>\n",
       "</symbol>\n",
       "<symbol id=\"icon-file-text2\" viewBox=\"0 0 32 32\">\n",
       "<path d=\"M28.681 7.159c-0.694-0.947-1.662-2.053-2.724-3.116s-2.169-2.030-3.116-2.724c-1.612-1.182-2.393-1.319-2.841-1.319h-15.5c-1.378 0-2.5 1.121-2.5 2.5v27c0 1.378 1.122 2.5 2.5 2.5h23c1.378 0 2.5-1.122 2.5-2.5v-19.5c0-0.448-0.137-1.23-1.319-2.841zM24.543 5.457c0.959 0.959 1.712 1.825 2.268 2.543h-4.811v-4.811c0.718 0.556 1.584 1.309 2.543 2.268zM28 29.5c0 0.271-0.229 0.5-0.5 0.5h-23c-0.271 0-0.5-0.229-0.5-0.5v-27c0-0.271 0.229-0.5 0.5-0.5 0 0 15.499-0 15.5 0v7c0 0.552 0.448 1 1 1h7v19.5z\"></path>\n",
       "<path d=\"M23 26h-14c-0.552 0-1-0.448-1-1s0.448-1 1-1h14c0.552 0 1 0.448 1 1s-0.448 1-1 1z\"></path>\n",
       "<path d=\"M23 22h-14c-0.552 0-1-0.448-1-1s0.448-1 1-1h14c0.552 0 1 0.448 1 1s-0.448 1-1 1z\"></path>\n",
       "<path d=\"M23 18h-14c-0.552 0-1-0.448-1-1s0.448-1 1-1h14c0.552 0 1 0.448 1 1s-0.448 1-1 1z\"></path>\n",
       "</symbol>\n",
       "</defs>\n",
       "</svg>\n",
       "<style>/* CSS stylesheet for displaying xarray objects in jupyterlab.\n",
       " *\n",
       " */\n",
       "\n",
       ":root {\n",
       "  --xr-font-color0: var(--jp-content-font-color0, rgba(0, 0, 0, 1));\n",
       "  --xr-font-color2: var(--jp-content-font-color2, rgba(0, 0, 0, 0.54));\n",
       "  --xr-font-color3: var(--jp-content-font-color3, rgba(0, 0, 0, 0.38));\n",
       "  --xr-border-color: var(--jp-border-color2, #e0e0e0);\n",
       "  --xr-disabled-color: var(--jp-layout-color3, #bdbdbd);\n",
       "  --xr-background-color: var(--jp-layout-color0, white);\n",
       "  --xr-background-color-row-even: var(--jp-layout-color1, white);\n",
       "  --xr-background-color-row-odd: var(--jp-layout-color2, #eeeeee);\n",
       "}\n",
       "\n",
       "html[theme=dark],\n",
       "body.vscode-dark {\n",
       "  --xr-font-color0: rgba(255, 255, 255, 1);\n",
       "  --xr-font-color2: rgba(255, 255, 255, 0.54);\n",
       "  --xr-font-color3: rgba(255, 255, 255, 0.38);\n",
       "  --xr-border-color: #1F1F1F;\n",
       "  --xr-disabled-color: #515151;\n",
       "  --xr-background-color: #111111;\n",
       "  --xr-background-color-row-even: #111111;\n",
       "  --xr-background-color-row-odd: #313131;\n",
       "}\n",
       "\n",
       ".xr-wrap {\n",
       "  display: block;\n",
       "  min-width: 300px;\n",
       "  max-width: 700px;\n",
       "}\n",
       "\n",
       ".xr-text-repr-fallback {\n",
       "  /* fallback to plain text repr when CSS is not injected (untrusted notebook) */\n",
       "  display: none;\n",
       "}\n",
       "\n",
       ".xr-header {\n",
       "  padding-top: 6px;\n",
       "  padding-bottom: 6px;\n",
       "  margin-bottom: 4px;\n",
       "  border-bottom: solid 1px var(--xr-border-color);\n",
       "}\n",
       "\n",
       ".xr-header > div,\n",
       ".xr-header > ul {\n",
       "  display: inline;\n",
       "  margin-top: 0;\n",
       "  margin-bottom: 0;\n",
       "}\n",
       "\n",
       ".xr-obj-type,\n",
       ".xr-array-name {\n",
       "  margin-left: 2px;\n",
       "  margin-right: 10px;\n",
       "}\n",
       "\n",
       ".xr-obj-type {\n",
       "  color: var(--xr-font-color2);\n",
       "}\n",
       "\n",
       ".xr-sections {\n",
       "  padding-left: 0 !important;\n",
       "  display: grid;\n",
       "  grid-template-columns: 150px auto auto 1fr 20px 20px;\n",
       "}\n",
       "\n",
       ".xr-section-item {\n",
       "  display: contents;\n",
       "}\n",
       "\n",
       ".xr-section-item input {\n",
       "  display: none;\n",
       "}\n",
       "\n",
       ".xr-section-item input + label {\n",
       "  color: var(--xr-disabled-color);\n",
       "}\n",
       "\n",
       ".xr-section-item input:enabled + label {\n",
       "  cursor: pointer;\n",
       "  color: var(--xr-font-color2);\n",
       "}\n",
       "\n",
       ".xr-section-item input:enabled + label:hover {\n",
       "  color: var(--xr-font-color0);\n",
       "}\n",
       "\n",
       ".xr-section-summary {\n",
       "  grid-column: 1;\n",
       "  color: var(--xr-font-color2);\n",
       "  font-weight: 500;\n",
       "}\n",
       "\n",
       ".xr-section-summary > span {\n",
       "  display: inline-block;\n",
       "  padding-left: 0.5em;\n",
       "}\n",
       "\n",
       ".xr-section-summary-in:disabled + label {\n",
       "  color: var(--xr-font-color2);\n",
       "}\n",
       "\n",
       ".xr-section-summary-in + label:before {\n",
       "  display: inline-block;\n",
       "  content: '►';\n",
       "  font-size: 11px;\n",
       "  width: 15px;\n",
       "  text-align: center;\n",
       "}\n",
       "\n",
       ".xr-section-summary-in:disabled + label:before {\n",
       "  color: var(--xr-disabled-color);\n",
       "}\n",
       "\n",
       ".xr-section-summary-in:checked + label:before {\n",
       "  content: '▼';\n",
       "}\n",
       "\n",
       ".xr-section-summary-in:checked + label > span {\n",
       "  display: none;\n",
       "}\n",
       "\n",
       ".xr-section-summary,\n",
       ".xr-section-inline-details {\n",
       "  padding-top: 4px;\n",
       "  padding-bottom: 4px;\n",
       "}\n",
       "\n",
       ".xr-section-inline-details {\n",
       "  grid-column: 2 / -1;\n",
       "}\n",
       "\n",
       ".xr-section-details {\n",
       "  display: none;\n",
       "  grid-column: 1 / -1;\n",
       "  margin-bottom: 5px;\n",
       "}\n",
       "\n",
       ".xr-section-summary-in:checked ~ .xr-section-details {\n",
       "  display: contents;\n",
       "}\n",
       "\n",
       ".xr-array-wrap {\n",
       "  grid-column: 1 / -1;\n",
       "  display: grid;\n",
       "  grid-template-columns: 20px auto;\n",
       "}\n",
       "\n",
       ".xr-array-wrap > label {\n",
       "  grid-column: 1;\n",
       "  vertical-align: top;\n",
       "}\n",
       "\n",
       ".xr-preview {\n",
       "  color: var(--xr-font-color3);\n",
       "}\n",
       "\n",
       ".xr-array-preview,\n",
       ".xr-array-data {\n",
       "  padding: 0 5px !important;\n",
       "  grid-column: 2;\n",
       "}\n",
       "\n",
       ".xr-array-data,\n",
       ".xr-array-in:checked ~ .xr-array-preview {\n",
       "  display: none;\n",
       "}\n",
       "\n",
       ".xr-array-in:checked ~ .xr-array-data,\n",
       ".xr-array-preview {\n",
       "  display: inline-block;\n",
       "}\n",
       "\n",
       ".xr-dim-list {\n",
       "  display: inline-block !important;\n",
       "  list-style: none;\n",
       "  padding: 0 !important;\n",
       "  margin: 0;\n",
       "}\n",
       "\n",
       ".xr-dim-list li {\n",
       "  display: inline-block;\n",
       "  padding: 0;\n",
       "  margin: 0;\n",
       "}\n",
       "\n",
       ".xr-dim-list:before {\n",
       "  content: '(';\n",
       "}\n",
       "\n",
       ".xr-dim-list:after {\n",
       "  content: ')';\n",
       "}\n",
       "\n",
       ".xr-dim-list li:not(:last-child):after {\n",
       "  content: ',';\n",
       "  padding-right: 5px;\n",
       "}\n",
       "\n",
       ".xr-has-index {\n",
       "  font-weight: bold;\n",
       "}\n",
       "\n",
       ".xr-var-list,\n",
       ".xr-var-item {\n",
       "  display: contents;\n",
       "}\n",
       "\n",
       ".xr-var-item > div,\n",
       ".xr-var-item label,\n",
       ".xr-var-item > .xr-var-name span {\n",
       "  background-color: var(--xr-background-color-row-even);\n",
       "  margin-bottom: 0;\n",
       "}\n",
       "\n",
       ".xr-var-item > .xr-var-name:hover span {\n",
       "  padding-right: 5px;\n",
       "}\n",
       "\n",
       ".xr-var-list > li:nth-child(odd) > div,\n",
       ".xr-var-list > li:nth-child(odd) > label,\n",
       ".xr-var-list > li:nth-child(odd) > .xr-var-name span {\n",
       "  background-color: var(--xr-background-color-row-odd);\n",
       "}\n",
       "\n",
       ".xr-var-name {\n",
       "  grid-column: 1;\n",
       "}\n",
       "\n",
       ".xr-var-dims {\n",
       "  grid-column: 2;\n",
       "}\n",
       "\n",
       ".xr-var-dtype {\n",
       "  grid-column: 3;\n",
       "  text-align: right;\n",
       "  color: var(--xr-font-color2);\n",
       "}\n",
       "\n",
       ".xr-var-preview {\n",
       "  grid-column: 4;\n",
       "}\n",
       "\n",
       ".xr-var-name,\n",
       ".xr-var-dims,\n",
       ".xr-var-dtype,\n",
       ".xr-preview,\n",
       ".xr-attrs dt {\n",
       "  white-space: nowrap;\n",
       "  overflow: hidden;\n",
       "  text-overflow: ellipsis;\n",
       "  padding-right: 10px;\n",
       "}\n",
       "\n",
       ".xr-var-name:hover,\n",
       ".xr-var-dims:hover,\n",
       ".xr-var-dtype:hover,\n",
       ".xr-attrs dt:hover {\n",
       "  overflow: visible;\n",
       "  width: auto;\n",
       "  z-index: 1;\n",
       "}\n",
       "\n",
       ".xr-var-attrs,\n",
       ".xr-var-data {\n",
       "  display: none;\n",
       "  background-color: var(--xr-background-color) !important;\n",
       "  padding-bottom: 5px !important;\n",
       "}\n",
       "\n",
       ".xr-var-attrs-in:checked ~ .xr-var-attrs,\n",
       ".xr-var-data-in:checked ~ .xr-var-data {\n",
       "  display: block;\n",
       "}\n",
       "\n",
       ".xr-var-data > table {\n",
       "  float: right;\n",
       "}\n",
       "\n",
       ".xr-var-name span,\n",
       ".xr-var-data,\n",
       ".xr-attrs {\n",
       "  padding-left: 25px !important;\n",
       "}\n",
       "\n",
       ".xr-attrs,\n",
       ".xr-var-attrs,\n",
       ".xr-var-data {\n",
       "  grid-column: 1 / -1;\n",
       "}\n",
       "\n",
       "dl.xr-attrs {\n",
       "  padding: 0;\n",
       "  margin: 0;\n",
       "  display: grid;\n",
       "  grid-template-columns: 125px auto;\n",
       "}\n",
       "\n",
       ".xr-attrs dt,\n",
       ".xr-attrs dd {\n",
       "  padding: 0;\n",
       "  margin: 0;\n",
       "  float: left;\n",
       "  padding-right: 10px;\n",
       "  width: auto;\n",
       "}\n",
       "\n",
       ".xr-attrs dt {\n",
       "  font-weight: normal;\n",
       "  grid-column: 1;\n",
       "}\n",
       "\n",
       ".xr-attrs dt:hover span {\n",
       "  display: inline-block;\n",
       "  background: var(--xr-background-color);\n",
       "  padding-right: 10px;\n",
       "}\n",
       "\n",
       ".xr-attrs dd {\n",
       "  grid-column: 2;\n",
       "  white-space: pre-wrap;\n",
       "  word-break: break-all;\n",
       "}\n",
       "\n",
       ".xr-icon-database,\n",
       ".xr-icon-file-text2 {\n",
       "  display: inline-block;\n",
       "  vertical-align: middle;\n",
       "  width: 1em;\n",
       "  height: 1.5em !important;\n",
       "  stroke-width: 0;\n",
       "  stroke: currentColor;\n",
       "  fill: currentColor;\n",
       "}\n",
       "</style><pre class='xr-text-repr-fallback'>&lt;xarray.Dataset&gt;\n",
       "Dimensions:      (nsegment: 58489, time: 14975)\n",
       "Coordinates:\n",
       "  * time         (time) datetime64[ns] 1979-01-01 1979-01-02 ... 2019-12-31\n",
       "  * nsegment     (nsegment) int32 1 2 3 4 5 6 ... 58485 58486 58487 58488 58489\n",
       "Data variables:\n",
       "    nhm_seg      (nsegment) int32 1 10 2 5 3 4 ... 58482 58483 58484 58485 58486\n",
       "    seg_outflow  (time, nsegment) float32 ...\n",
       "Attributes:\n",
       "    DODS_EXTRA.Unlimited_Dimension:  time</pre><div class='xr-wrap' hidden><div class='xr-header'><div class='xr-obj-type'>xarray.Dataset</div></div><ul class='xr-sections'><li class='xr-section-item'><input id='section-f2149549-3154-4bbe-9dcf-90e47d4ac2b7' class='xr-section-summary-in' type='checkbox' disabled ><label for='section-f2149549-3154-4bbe-9dcf-90e47d4ac2b7' class='xr-section-summary'  title='Expand/collapse section'>Dimensions:</label><div class='xr-section-inline-details'><ul class='xr-dim-list'><li><span class='xr-has-index'>nsegment</span>: 58489</li><li><span class='xr-has-index'>time</span>: 14975</li></ul></div><div class='xr-section-details'></div></li><li class='xr-section-item'><input id='section-699a15ef-9dfc-4d93-b23c-a45e52be5c4e' class='xr-section-summary-in' type='checkbox'  checked><label for='section-699a15ef-9dfc-4d93-b23c-a45e52be5c4e' class='xr-section-summary' >Coordinates: <span>(2)</span></label><div class='xr-section-inline-details'></div><div class='xr-section-details'><ul class='xr-var-list'><li class='xr-var-item'><div class='xr-var-name'><span class='xr-has-index'>time</span></div><div class='xr-var-dims'>(time)</div><div class='xr-var-dtype'>datetime64[ns]</div><div class='xr-var-preview xr-preview'>1979-01-01 ... 2019-12-31</div><input id='attrs-36bd7bbd-2bbd-4706-8fa8-a464f4c9f12f' class='xr-var-attrs-in' type='checkbox' disabled><label for='attrs-36bd7bbd-2bbd-4706-8fa8-a464f4c9f12f' title='Show/Hide attributes'><svg class='icon xr-icon-file-text2'><use xlink:href='#icon-file-text2'></use></svg></label><input id='data-6b2e41a0-76cd-4088-830f-58d62e3abfe4' class='xr-var-data-in' type='checkbox'><label for='data-6b2e41a0-76cd-4088-830f-58d62e3abfe4' title='Show/Hide data repr'><svg class='icon xr-icon-database'><use xlink:href='#icon-database'></use></svg></label><div class='xr-var-attrs'><dl class='xr-attrs'></dl></div><div class='xr-var-data'><pre>array([&#x27;1979-01-01T00:00:00.000000000&#x27;, &#x27;1979-01-02T00:00:00.000000000&#x27;,\n",
       "       &#x27;1979-01-03T00:00:00.000000000&#x27;, ..., &#x27;2019-12-29T00:00:00.000000000&#x27;,\n",
       "       &#x27;2019-12-30T00:00:00.000000000&#x27;, &#x27;2019-12-31T00:00:00.000000000&#x27;],\n",
       "      dtype=&#x27;datetime64[ns]&#x27;)</pre></div></li><li class='xr-var-item'><div class='xr-var-name'><span class='xr-has-index'>nsegment</span></div><div class='xr-var-dims'>(nsegment)</div><div class='xr-var-dtype'>int32</div><div class='xr-var-preview xr-preview'>1 2 3 4 ... 58486 58487 58488 58489</div><input id='attrs-e3f93418-75c7-4bf8-aa87-eef6f8dd0b9f' class='xr-var-attrs-in' type='checkbox' ><label for='attrs-e3f93418-75c7-4bf8-aa87-eef6f8dd0b9f' title='Show/Hide attributes'><svg class='icon xr-icon-file-text2'><use xlink:href='#icon-file-text2'></use></svg></label><input id='data-92765f3c-2cdf-4a98-ac02-bdfc07fbf4dd' class='xr-var-data-in' type='checkbox'><label for='data-92765f3c-2cdf-4a98-ac02-bdfc07fbf4dd' title='Show/Hide data repr'><svg class='icon xr-icon-database'><use xlink:href='#icon-database'></use></svg></label><div class='xr-var-attrs'><dl class='xr-attrs'><dt><span>long_name :</span></dt><dd>Local model segment ID</dd></dl></div><div class='xr-var-data'><pre>array([    1,     2,     3, ..., 58487, 58488, 58489])</pre></div></li></ul></div></li><li class='xr-section-item'><input id='section-30ceb1f1-ff4c-40be-a953-5ceb8ffa15ef' class='xr-section-summary-in' type='checkbox'  checked><label for='section-30ceb1f1-ff4c-40be-a953-5ceb8ffa15ef' class='xr-section-summary' >Data variables: <span>(2)</span></label><div class='xr-section-inline-details'></div><div class='xr-section-details'><ul class='xr-var-list'><li class='xr-var-item'><div class='xr-var-name'><span>nhm_seg</span></div><div class='xr-var-dims'>(nsegment)</div><div class='xr-var-dtype'>int32</div><div class='xr-var-preview xr-preview'>...</div><input id='attrs-9b3d339f-b85c-46ef-a06d-eed7c8613159' class='xr-var-attrs-in' type='checkbox' ><label for='attrs-9b3d339f-b85c-46ef-a06d-eed7c8613159' title='Show/Hide attributes'><svg class='icon xr-icon-file-text2'><use xlink:href='#icon-file-text2'></use></svg></label><input id='data-5eb6fabf-c636-4b62-be4b-5be84757d02b' class='xr-var-data-in' type='checkbox'><label for='data-5eb6fabf-c636-4b62-be4b-5be84757d02b' title='Show/Hide data repr'><svg class='icon xr-icon-database'><use xlink:href='#icon-database'></use></svg></label><div class='xr-var-attrs'><dl class='xr-attrs'><dt><span>long_name :</span></dt><dd>NHM segment ID</dd></dl></div><div class='xr-var-data'><pre>array([    1,    10,     2, ..., 58484, 58485, 58486])</pre></div></li><li class='xr-var-item'><div class='xr-var-name'><span>seg_outflow</span></div><div class='xr-var-dims'>(time, nsegment)</div><div class='xr-var-dtype'>float32</div><div class='xr-var-preview xr-preview'>...</div><input id='attrs-50672fb5-588b-4a4b-8b15-cd9039fcb705' class='xr-var-attrs-in' type='checkbox' ><label for='attrs-50672fb5-588b-4a4b-8b15-cd9039fcb705' title='Show/Hide attributes'><svg class='icon xr-icon-file-text2'><use xlink:href='#icon-file-text2'></use></svg></label><input id='data-21babdcc-8226-4966-b24b-5a0956e3472b' class='xr-var-data-in' type='checkbox'><label for='data-21babdcc-8226-4966-b24b-5a0956e3472b' title='Show/Hide data repr'><svg class='icon xr-icon-database'><use xlink:href='#icon-database'></use></svg></label><div class='xr-var-attrs'><dl class='xr-attrs'><dt><span>long_name :</span></dt><dd>Streamflow leaving a segment</dd><dt><span>units :</span></dt><dd>cfs</dd></dl></div><div class='xr-var-data'><pre>[875872775 values with dtype=float32]</pre></div></li></ul></div></li><li class='xr-section-item'><input id='section-0fcb2d47-72c5-4441-a7f8-c6729dd28372' class='xr-section-summary-in' type='checkbox'  checked><label for='section-0fcb2d47-72c5-4441-a7f8-c6729dd28372' class='xr-section-summary' >Attributes: <span>(1)</span></label><div class='xr-section-inline-details'></div><div class='xr-section-details'><dl class='xr-attrs'><dt><span>DODS_EXTRA.Unlimited_Dimension :</span></dt><dd>time</dd></dl></div></li></ul></div></div>"
      ],
      "text/plain": [
       "<xarray.Dataset>\n",
       "Dimensions:      (nsegment: 58489, time: 14975)\n",
       "Coordinates:\n",
       "  * time         (time) datetime64[ns] 1979-01-01 1979-01-02 ... 2019-12-31\n",
       "  * nsegment     (nsegment) int32 1 2 3 4 5 6 ... 58485 58486 58487 58488 58489\n",
       "Data variables:\n",
       "    nhm_seg      (nsegment) int32 ...\n",
       "    seg_outflow  (time, nsegment) float32 ...\n",
       "Attributes:\n",
       "    DODS_EXTRA.Unlimited_Dimension:  time"
      ]
     },
     "execution_count": 8,
     "metadata": {},
     "output_type": "execute_result"
    }
   ],
   "source": [
    "data"
   ]
  },
  {
   "cell_type": "code",
   "execution_count": 9,
   "id": "nonprofit-vehicle",
   "metadata": {},
   "outputs": [
    {
     "data": {
      "text/plain": [
       "{'long_name': 'Streamflow leaving a segment', 'units': 'cfs'}"
      ]
     },
     "execution_count": 9,
     "metadata": {},
     "output_type": "execute_result"
    }
   ],
   "source": [
    "data.seg_outflow.attrs"
   ]
  },
  {
   "cell_type": "markdown",
   "id": "palestinian-concept",
   "metadata": {},
   "source": [
    "### We use only the NHM POIs.  The NHM POI layer  and NHM segments are exported from the GFv1.1 repo on sciencebase.\n",
    "* GFv1.1 Point of interest (POI): NLDIPlusID == NHD+ comid\n",
    "* seg_id_nhm (NHM) - what is selected from Thredds ouput\n"
   ]
  },
  {
   "cell_type": "code",
   "execution_count": 10,
   "id": "blank-rochester",
   "metadata": {},
   "outputs": [
    {
     "name": "stdout",
     "output_type": "stream",
     "text": [
      "gfv1.1 path exists?: True\n"
     ]
    },
    {
     "name": "stderr",
     "output_type": "stream",
     "text": [
      "C:\\Users\\rmcd\\Miniconda3\\envs\\nldi_el_serv\\lib\\site-packages\\geopandas\\geodataframe.py:422: RuntimeWarning: Sequential read of iterator was interrupted. Resetting iterator. This can negatively impact the performance.\n",
      "  for feature in features_lst:\n"
     ]
    }
   ],
   "source": [
    "gfv11_filepath = Path('../../Gfv1.1')\n",
    "print (f'gfv1.1 path exists?: {gfv11_filepath.exists()}')\n",
    "gfv11_poi = gpd.read_file(gfv11_filepath / 'POIs_v1_1.gpkg')\n",
    "seg = gpd.read_file(gfv11_filepath / 'nsegment_v1_1.gpkg')"
   ]
  },
  {
   "cell_type": "markdown",
   "id": "outer-chrome",
   "metadata": {},
   "source": [
    "NHDPlusID values are in scientific notation so need to convert to int64"
   ]
  },
  {
   "cell_type": "code",
   "execution_count": 11,
   "id": "retained-singing",
   "metadata": {},
   "outputs": [],
   "source": [
    "gfv11_poi.NHDPlusID = gfv11_poi.NHDPlusID.astype('int64')"
   ]
  },
  {
   "cell_type": "code",
   "execution_count": 12,
   "id": "outdoor-token",
   "metadata": {},
   "outputs": [
    {
     "data": {
      "text/plain": [
       "0         5000100002857\n",
       "1         5000100004284\n",
       "2         5000100012160\n",
       "3         5000100000689\n",
       "4         5000100002063\n",
       "              ...      \n",
       "58186          22226812\n",
       "58187    10000900096921\n",
       "58188    55000800119873\n",
       "58189    55000800050349\n",
       "58190    55000800241941\n",
       "Name: NHDPlusID, Length: 58191, dtype: int64"
      ]
     },
     "execution_count": 12,
     "metadata": {},
     "output_type": "execute_result"
    }
   ],
   "source": [
    "gfv11_poi.NHDPlusID"
   ]
  },
  {
   "cell_type": "markdown",
   "id": "stuffed-yellow",
   "metadata": {},
   "source": [
    "Use Hydrodata python interface to NLDI: https://github.com/cheginit/hydrodata"
   ]
  },
  {
   "cell_type": "code",
   "execution_count": 13,
   "id": "african-newton",
   "metadata": {},
   "outputs": [],
   "source": [
    "import hydrodata as hd\n",
    "from hydrodata import NWIS, plot"
   ]
  },
  {
   "cell_type": "markdown",
   "id": "julian-guard",
   "metadata": {},
   "source": [
    "### Search NLDI by navigating above USGS-06759500 gage on S. Platt River above Fort Morgan, CO\n",
    "* grab all comids and gages on main flowline.  \n",
    "* Use station comids to filter NHM POIs"
   ]
  },
  {
   "cell_type": "code",
   "execution_count": 14,
   "id": "aware-truth",
   "metadata": {},
   "outputs": [],
   "source": [
    "gage_id = '06759500'\n",
    "nldi_flw_main = NLDI().navigate_byid(fsource=\"nwissite\",\n",
    "                             fid=f\"USGS-{gage_id}\",\n",
    "                             navigation=\"upstreamMain\",\n",
    "                             source=\"flowlines\",\n",
    "                             distance=50)\n",
    "\n",
    "nldi_st_all = NLDI().navigate_byid(fsource=\"nwissite\",\n",
    "                             fid=f\"USGS-{gage_id}\",\n",
    "                             navigation=\"upstreamMain\",\n",
    "                             source=\"nwissite\",\n",
    "                             distance=50)"
   ]
  },
  {
   "cell_type": "code",
   "execution_count": 15,
   "id": "educated-horse",
   "metadata": {},
   "outputs": [
    {
     "data": {
      "text/html": [
       "<div>\n",
       "<style scoped>\n",
       "    .dataframe tbody tr th:only-of-type {\n",
       "        vertical-align: middle;\n",
       "    }\n",
       "\n",
       "    .dataframe tbody tr th {\n",
       "        vertical-align: top;\n",
       "    }\n",
       "\n",
       "    .dataframe thead th {\n",
       "        text-align: right;\n",
       "    }\n",
       "</style>\n",
       "<table border=\"1\" class=\"dataframe\">\n",
       "  <thead>\n",
       "    <tr style=\"text-align: right;\">\n",
       "      <th></th>\n",
       "      <th>geometry</th>\n",
       "      <th>nhdplus_comid</th>\n",
       "    </tr>\n",
       "  </thead>\n",
       "  <tbody>\n",
       "    <tr>\n",
       "      <th>0</th>\n",
       "      <td>LINESTRING (-103.80253 40.26874, -103.80151 40...</td>\n",
       "      <td>3561878</td>\n",
       "    </tr>\n",
       "    <tr>\n",
       "      <th>1</th>\n",
       "      <td>LINESTRING (-103.82914 40.27436, -103.82747 40...</td>\n",
       "      <td>3561874</td>\n",
       "    </tr>\n",
       "    <tr>\n",
       "      <th>2</th>\n",
       "      <td>LINESTRING (-103.83380 40.27505, -103.83288 40...</td>\n",
       "      <td>3561872</td>\n",
       "    </tr>\n",
       "    <tr>\n",
       "      <th>3</th>\n",
       "      <td>LINESTRING (-103.84725 40.28259, -103.84632 40...</td>\n",
       "      <td>3561928</td>\n",
       "    </tr>\n",
       "    <tr>\n",
       "      <th>4</th>\n",
       "      <td>LINESTRING (-103.84846 40.28266, -103.84830 40...</td>\n",
       "      <td>3561850</td>\n",
       "    </tr>\n",
       "  </tbody>\n",
       "</table>\n",
       "</div>"
      ],
      "text/plain": [
       "                                            geometry nhdplus_comid\n",
       "0  LINESTRING (-103.80253 40.26874, -103.80151 40...       3561878\n",
       "1  LINESTRING (-103.82914 40.27436, -103.82747 40...       3561874\n",
       "2  LINESTRING (-103.83380 40.27505, -103.83288 40...       3561872\n",
       "3  LINESTRING (-103.84725 40.28259, -103.84632 40...       3561928\n",
       "4  LINESTRING (-103.84846 40.28266, -103.84830 40...       3561850"
      ]
     },
     "execution_count": 15,
     "metadata": {},
     "output_type": "execute_result"
    }
   ],
   "source": [
    "nldi_flw_main.head()"
   ]
  },
  {
   "cell_type": "code",
   "execution_count": 16,
   "id": "oriented-character",
   "metadata": {},
   "outputs": [
    {
     "data": {
      "text/html": [
       "<div>\n",
       "<style scoped>\n",
       "    .dataframe tbody tr th:only-of-type {\n",
       "        vertical-align: middle;\n",
       "    }\n",
       "\n",
       "    .dataframe tbody tr th {\n",
       "        vertical-align: top;\n",
       "    }\n",
       "\n",
       "    .dataframe thead th {\n",
       "        text-align: right;\n",
       "    }\n",
       "</style>\n",
       "<table border=\"1\" class=\"dataframe\">\n",
       "  <thead>\n",
       "    <tr style=\"text-align: right;\">\n",
       "      <th></th>\n",
       "      <th>geometry</th>\n",
       "      <th>source</th>\n",
       "      <th>sourceName</th>\n",
       "      <th>identifier</th>\n",
       "      <th>name</th>\n",
       "      <th>uri</th>\n",
       "      <th>comid</th>\n",
       "      <th>reachcode</th>\n",
       "      <th>measure</th>\n",
       "      <th>navigation</th>\n",
       "    </tr>\n",
       "  </thead>\n",
       "  <tbody>\n",
       "    <tr>\n",
       "      <th>0</th>\n",
       "      <td>POINT (-104.24467 40.30637)</td>\n",
       "      <td>nwissite</td>\n",
       "      <td>NWIS Sites</td>\n",
       "      <td>USGS-401823104143900</td>\n",
       "      <td>SOUTH PLATTE RIVER AT MASTERS, CO</td>\n",
       "      <td>https://waterdata.usgs.gov/monitoring-location...</td>\n",
       "      <td>226643</td>\n",
       "      <td>10190003000027</td>\n",
       "      <td>0E-10</td>\n",
       "      <td>https://labs.waterdata.usgs.gov/api/nldi/linke...</td>\n",
       "    </tr>\n",
       "    <tr>\n",
       "      <th>1</th>\n",
       "      <td>POINT (-103.92028 40.32139)</td>\n",
       "      <td>nwissite</td>\n",
       "      <td>NWIS Sites</td>\n",
       "      <td>USGS-06758500</td>\n",
       "      <td>SOUTH PLATTE RIVER NEAR WELDONA, CO</td>\n",
       "      <td>https://waterdata.usgs.gov/monitoring-location...</td>\n",
       "      <td>227923</td>\n",
       "      <td>10190003000022</td>\n",
       "      <td>97.2080700000</td>\n",
       "      <td>https://labs.waterdata.usgs.gov/api/nldi/linke...</td>\n",
       "    </tr>\n",
       "    <tr>\n",
       "      <th>2</th>\n",
       "      <td>POINT (-103.80119 40.26840)</td>\n",
       "      <td>nwissite</td>\n",
       "      <td>NWIS Sites</td>\n",
       "      <td>USGS-06759500</td>\n",
       "      <td>SOUTH PLATTE RIVER AT FORT MORGAN, CO</td>\n",
       "      <td>https://waterdata.usgs.gov/monitoring-location...</td>\n",
       "      <td>3561878</td>\n",
       "      <td>10190012002368</td>\n",
       "      <td>94.8528800000</td>\n",
       "      <td>https://labs.waterdata.usgs.gov/api/nldi/linke...</td>\n",
       "    </tr>\n",
       "    <tr>\n",
       "      <th>3</th>\n",
       "      <td>POINT (-104.24495 40.30581)</td>\n",
       "      <td>nwissite</td>\n",
       "      <td>NWIS Sites</td>\n",
       "      <td>USGS-06756995</td>\n",
       "      <td>SOUTH PLATTE RIVER AT MASTERS, CO.</td>\n",
       "      <td>https://waterdata.usgs.gov/monitoring-location...</td>\n",
       "      <td>226669</td>\n",
       "      <td>10190003001241</td>\n",
       "      <td>97.3259600000</td>\n",
       "      <td>https://labs.waterdata.usgs.gov/api/nldi/linke...</td>\n",
       "    </tr>\n",
       "    <tr>\n",
       "      <th>4</th>\n",
       "      <td>POINT (-104.17912 40.30387)</td>\n",
       "      <td>nwissite</td>\n",
       "      <td>NWIS Sites</td>\n",
       "      <td>USGS-06757000</td>\n",
       "      <td>SOUTH PLATTE RIVER AT SUBLETTE, CO.</td>\n",
       "      <td>https://waterdata.usgs.gov/monitoring-location...</td>\n",
       "      <td>226665</td>\n",
       "      <td>10190003001241</td>\n",
       "      <td>53.2207200000</td>\n",
       "      <td>https://labs.waterdata.usgs.gov/api/nldi/linke...</td>\n",
       "    </tr>\n",
       "  </tbody>\n",
       "</table>\n",
       "</div>"
      ],
      "text/plain": [
       "                      geometry    source  sourceName            identifier  \\\n",
       "0  POINT (-104.24467 40.30637)  nwissite  NWIS Sites  USGS-401823104143900   \n",
       "1  POINT (-103.92028 40.32139)  nwissite  NWIS Sites         USGS-06758500   \n",
       "2  POINT (-103.80119 40.26840)  nwissite  NWIS Sites         USGS-06759500   \n",
       "3  POINT (-104.24495 40.30581)  nwissite  NWIS Sites         USGS-06756995   \n",
       "4  POINT (-104.17912 40.30387)  nwissite  NWIS Sites         USGS-06757000   \n",
       "\n",
       "                                    name  \\\n",
       "0      SOUTH PLATTE RIVER AT MASTERS, CO   \n",
       "1    SOUTH PLATTE RIVER NEAR WELDONA, CO   \n",
       "2  SOUTH PLATTE RIVER AT FORT MORGAN, CO   \n",
       "3     SOUTH PLATTE RIVER AT MASTERS, CO.   \n",
       "4    SOUTH PLATTE RIVER AT SUBLETTE, CO.   \n",
       "\n",
       "                                                 uri    comid       reachcode  \\\n",
       "0  https://waterdata.usgs.gov/monitoring-location...   226643  10190003000027   \n",
       "1  https://waterdata.usgs.gov/monitoring-location...   227923  10190003000022   \n",
       "2  https://waterdata.usgs.gov/monitoring-location...  3561878  10190012002368   \n",
       "3  https://waterdata.usgs.gov/monitoring-location...   226669  10190003001241   \n",
       "4  https://waterdata.usgs.gov/monitoring-location...   226665  10190003001241   \n",
       "\n",
       "         measure                                         navigation  \n",
       "0          0E-10  https://labs.waterdata.usgs.gov/api/nldi/linke...  \n",
       "1  97.2080700000  https://labs.waterdata.usgs.gov/api/nldi/linke...  \n",
       "2  94.8528800000  https://labs.waterdata.usgs.gov/api/nldi/linke...  \n",
       "3  97.3259600000  https://labs.waterdata.usgs.gov/api/nldi/linke...  \n",
       "4  53.2207200000  https://labs.waterdata.usgs.gov/api/nldi/linke...  "
      ]
     },
     "execution_count": 16,
     "metadata": {},
     "output_type": "execute_result"
    }
   ],
   "source": [
    "nldi_st_all.head()"
   ]
  },
  {
   "cell_type": "code",
   "execution_count": 17,
   "id": "signal-scholar",
   "metadata": {},
   "outputs": [
    {
     "data": {
      "image/png": "[encoded data removed]",
      "text/plain": [
       "<Figure size 600x400 with 1 Axes>"
      ]
     },
     "metadata": {
      "needs_background": "light"
     },
     "output_type": "display_data"
    }
   ],
   "source": [
    "ax = nldi_flw_main.plot(\n",
    "    lw=3, color=\"r\", zorder=2, label=\"Main\"\n",
    ")\n",
    "nldi_st_all.plot(\n",
    "    ax = ax, label=\"USGS stations\", marker=\"*\", markersize=3, zorder=4, color=\"b\"\n",
    ")\n",
    "ax.legend(loc=\"best\")\n",
    "ax.set_aspect(\"equal\")\n",
    "ax.figure.set_dpi(100)"
   ]
  },
  {
   "cell_type": "code",
   "execution_count": 18,
   "id": "hundred-sunrise",
   "metadata": {},
   "outputs": [
    {
     "data": {
      "text/plain": [
       "array(['226643', '227923', '3561878', '226669', '226665', '227969'],\n",
       "      dtype=object)"
      ]
     },
     "execution_count": 18,
     "metadata": {},
     "output_type": "execute_result"
    }
   ],
   "source": [
    "nldi_st_all.comid.values"
   ]
  },
  {
   "cell_type": "markdown",
   "id": "suspected-thickness",
   "metadata": {},
   "source": [
    "Filter NHM POI for all NHDPlusIDs in the NLDI station records"
   ]
  },
  {
   "cell_type": "code",
   "execution_count": 19,
   "id": "better-principal",
   "metadata": {},
   "outputs": [],
   "source": [
    "gfv11_poi_filt = gfv11_poi[gfv11_poi.NHDPlusID.isin(nldi_st_all.comid.values.astype('int64'))]"
   ]
  },
  {
   "cell_type": "markdown",
   "id": "nutritional-chicken",
   "metadata": {},
   "source": [
    "Identify gage POI ie Type_Gage > 0"
   ]
  },
  {
   "cell_type": "code",
   "execution_count": 20,
   "id": "stuffed-fundamental",
   "metadata": {},
   "outputs": [
    {
     "data": {
      "text/html": [
       "<div>\n",
       "<style scoped>\n",
       "    .dataframe tbody tr th:only-of-type {\n",
       "        vertical-align: middle;\n",
       "    }\n",
       "\n",
       "    .dataframe tbody tr th {\n",
       "        vertical-align: top;\n",
       "    }\n",
       "\n",
       "    .dataframe thead th {\n",
       "        text-align: right;\n",
       "    }\n",
       "</style>\n",
       "<table border=\"1\" class=\"dataframe\">\n",
       "  <thead>\n",
       "    <tr style=\"text-align: right;\">\n",
       "      <th></th>\n",
       "      <th>OBJECTID</th>\n",
       "      <th>GNIS_Name</th>\n",
       "      <th>NHDPlusID</th>\n",
       "      <th>HydroSeq</th>\n",
       "      <th>Type_conf</th>\n",
       "      <th>Type_WBOut</th>\n",
       "      <th>Type_WBIn</th>\n",
       "      <th>Type_Gage</th>\n",
       "      <th>Type_Ref</th>\n",
       "      <th>Type_Con</th>\n",
       "      <th>Type_GFv1</th>\n",
       "      <th>Type_Travel</th>\n",
       "      <th>Type_Elev</th>\n",
       "      <th>Gage_Source</th>\n",
       "      <th>Type_NCA</th>\n",
       "      <th>seg_id_nhm</th>\n",
       "      <th>poi_segment_v1_1</th>\n",
       "      <th>NHD_Unit</th>\n",
       "      <th>geometry</th>\n",
       "    </tr>\n",
       "  </thead>\n",
       "  <tbody>\n",
       "    <tr>\n",
       "      <th>32303</th>\n",
       "      <td>32304</td>\n",
       "      <td>South Platte River</td>\n",
       "      <td>227923</td>\n",
       "      <td>918700008.0</td>\n",
       "      <td>0</td>\n",
       "      <td>0</td>\n",
       "      <td>0</td>\n",
       "      <td>06758500</td>\n",
       "      <td>Non-ref</td>\n",
       "      <td>0</td>\n",
       "      <td>0</td>\n",
       "      <td>0</td>\n",
       "      <td>0</td>\n",
       "      <td>V1 Type_GagesII field</td>\n",
       "      <td>0</td>\n",
       "      <td>24273</td>\n",
       "      <td>24273</td>\n",
       "      <td>10L</td>\n",
       "      <td>POINT Z (-665152.251 1949498.999 0.000)</td>\n",
       "    </tr>\n",
       "    <tr>\n",
       "      <th>32304</th>\n",
       "      <td>32305</td>\n",
       "      <td>South Platte River</td>\n",
       "      <td>3561878</td>\n",
       "      <td>917000432.0</td>\n",
       "      <td>0</td>\n",
       "      <td>0</td>\n",
       "      <td>0</td>\n",
       "      <td>06759500</td>\n",
       "      <td>Non-ref</td>\n",
       "      <td>0</td>\n",
       "      <td>0</td>\n",
       "      <td>0</td>\n",
       "      <td>0</td>\n",
       "      <td>V1 Type_GagesII field</td>\n",
       "      <td>0</td>\n",
       "      <td>24735</td>\n",
       "      <td>24735</td>\n",
       "      <td>10L</td>\n",
       "      <td>POINT Z (-656485.620 1943921.127 0.000)</td>\n",
       "    </tr>\n",
       "  </tbody>\n",
       "</table>\n",
       "</div>"
      ],
      "text/plain": [
       "       OBJECTID           GNIS_Name  NHDPlusID     HydroSeq  Type_conf  \\\n",
       "32303     32304  South Platte River     227923  918700008.0          0   \n",
       "32304     32305  South Platte River    3561878  917000432.0          0   \n",
       "\n",
       "       Type_WBOut  Type_WBIn Type_Gage Type_Ref  Type_Con  Type_GFv1  \\\n",
       "32303           0          0  06758500  Non-ref         0          0   \n",
       "32304           0          0  06759500  Non-ref         0          0   \n",
       "\n",
       "       Type_Travel  Type_Elev            Gage_Source  Type_NCA  seg_id_nhm  \\\n",
       "32303            0          0  V1 Type_GagesII field         0       24273   \n",
       "32304            0          0  V1 Type_GagesII field         0       24735   \n",
       "\n",
       "       poi_segment_v1_1 NHD_Unit                                 geometry  \n",
       "32303             24273      10L  POINT Z (-665152.251 1949498.999 0.000)  \n",
       "32304             24735      10L  POINT Z (-656485.620 1943921.127 0.000)  "
      ]
     },
     "execution_count": 20,
     "metadata": {},
     "output_type": "execute_result"
    }
   ],
   "source": [
    "gfv11_poi_gage = gfv11_poi_filt[gfv11_poi_filt.Type_Gage.astype(int) > 0]\n",
    "gfv11_poi_gage.head()"
   ]
  },
  {
   "cell_type": "markdown",
   "id": "played-earthquake",
   "metadata": {},
   "source": [
    "grab the nhm segment id for a gage of interest"
   ]
  },
  {
   "cell_type": "code",
   "execution_count": 21,
   "id": "suffering-valuation",
   "metadata": {},
   "outputs": [
    {
     "data": {
      "text/plain": [
       "24273"
      ]
     },
     "execution_count": 21,
     "metadata": {},
     "output_type": "execute_result"
    }
   ],
   "source": [
    "nhm_seg_id = gfv11_poi_gage.loc[gfv11_poi_gage.Type_Gage == '06758500'].seg_id_nhm.values[0]\n",
    "nhm_seg_id"
   ]
  },
  {
   "cell_type": "code",
   "execution_count": 22,
   "id": "passing-creation",
   "metadata": {},
   "outputs": [],
   "source": [
    "nhm_seg_ouflow = data.isel(nsegment=nhm_seg_id)\n",
    "nhm_seg_ouflow_cms = nhm_seg_ouflow.seg_outflow * 0.02381"
   ]
  },
  {
   "cell_type": "code",
   "execution_count": 23,
   "id": "comparable-europe",
   "metadata": {},
   "outputs": [
    {
     "data": {
      "image/png": "[encoded data removed]",
      "text/plain": [
       "<Figure size 432x288 with 1 Axes>"
      ]
     },
     "metadata": {
      "needs_background": "light"
     },
     "output_type": "display_data"
    }
   ],
   "source": [
    "ax = nhm_seg_ouflow.seg_outflow.plot()"
   ]
  },
  {
   "cell_type": "markdown",
   "id": "precise-substance",
   "metadata": {},
   "source": [
    "### Experiment with a couple packages for retrieving NWIS data.\n",
    "* hydrodata NWIS package (NWIS)\n",
    "* dataretreival package (nwis)"
   ]
  },
  {
   "cell_type": "code",
   "execution_count": 24,
   "id": "elegant-criticism",
   "metadata": {},
   "outputs": [],
   "source": [
    "site='06758500'\n",
    "df = nwis.get_record(sites=site, service='dv', start='1980-10-01',  parameterCd='00060')"
   ]
  },
  {
   "cell_type": "code",
   "execution_count": 25,
   "id": "detailed-ordering",
   "metadata": {},
   "outputs": [
    {
     "data": {
      "text/html": [
       "<div>\n",
       "<style scoped>\n",
       "    .dataframe tbody tr th:only-of-type {\n",
       "        vertical-align: middle;\n",
       "    }\n",
       "\n",
       "    .dataframe tbody tr th {\n",
       "        vertical-align: top;\n",
       "    }\n",
       "\n",
       "    .dataframe thead th {\n",
       "        text-align: right;\n",
       "    }\n",
       "</style>\n",
       "<table border=\"1\" class=\"dataframe\">\n",
       "  <thead>\n",
       "    <tr style=\"text-align: right;\">\n",
       "      <th></th>\n",
       "      <th>00060_Mean</th>\n",
       "      <th>00060_Mean_cd</th>\n",
       "      <th>site_no</th>\n",
       "    </tr>\n",
       "    <tr>\n",
       "      <th>datetime</th>\n",
       "      <th></th>\n",
       "      <th></th>\n",
       "      <th></th>\n",
       "    </tr>\n",
       "  </thead>\n",
       "  <tbody>\n",
       "    <tr>\n",
       "      <th>1980-10-01 00:00:00+00:00</th>\n",
       "      <td>318.0</td>\n",
       "      <td>A</td>\n",
       "      <td>06758500</td>\n",
       "    </tr>\n",
       "    <tr>\n",
       "      <th>1980-10-02 00:00:00+00:00</th>\n",
       "      <td>295.0</td>\n",
       "      <td>A</td>\n",
       "      <td>06758500</td>\n",
       "    </tr>\n",
       "    <tr>\n",
       "      <th>1980-10-03 00:00:00+00:00</th>\n",
       "      <td>288.0</td>\n",
       "      <td>A</td>\n",
       "      <td>06758500</td>\n",
       "    </tr>\n",
       "    <tr>\n",
       "      <th>1980-10-04 00:00:00+00:00</th>\n",
       "      <td>285.0</td>\n",
       "      <td>A</td>\n",
       "      <td>06758500</td>\n",
       "    </tr>\n",
       "    <tr>\n",
       "      <th>1980-10-05 00:00:00+00:00</th>\n",
       "      <td>274.0</td>\n",
       "      <td>A</td>\n",
       "      <td>06758500</td>\n",
       "    </tr>\n",
       "    <tr>\n",
       "      <th>...</th>\n",
       "      <td>...</td>\n",
       "      <td>...</td>\n",
       "      <td>...</td>\n",
       "    </tr>\n",
       "    <tr>\n",
       "      <th>2007-09-25 00:00:00+00:00</th>\n",
       "      <td>203.0</td>\n",
       "      <td>A</td>\n",
       "      <td>06758500</td>\n",
       "    </tr>\n",
       "    <tr>\n",
       "      <th>2007-09-26 00:00:00+00:00</th>\n",
       "      <td>363.0</td>\n",
       "      <td>A</td>\n",
       "      <td>06758500</td>\n",
       "    </tr>\n",
       "    <tr>\n",
       "      <th>2007-09-27 00:00:00+00:00</th>\n",
       "      <td>564.0</td>\n",
       "      <td>A</td>\n",
       "      <td>06758500</td>\n",
       "    </tr>\n",
       "    <tr>\n",
       "      <th>2007-09-28 00:00:00+00:00</th>\n",
       "      <td>527.0</td>\n",
       "      <td>A</td>\n",
       "      <td>06758500</td>\n",
       "    </tr>\n",
       "    <tr>\n",
       "      <th>2007-09-29 00:00:00+00:00</th>\n",
       "      <td>486.0</td>\n",
       "      <td>A</td>\n",
       "      <td>06758500</td>\n",
       "    </tr>\n",
       "  </tbody>\n",
       "</table>\n",
       "<p>9860 rows × 3 columns</p>\n",
       "</div>"
      ],
      "text/plain": [
       "                           00060_Mean 00060_Mean_cd   site_no\n",
       "datetime                                                     \n",
       "1980-10-01 00:00:00+00:00       318.0             A  06758500\n",
       "1980-10-02 00:00:00+00:00       295.0             A  06758500\n",
       "1980-10-03 00:00:00+00:00       288.0             A  06758500\n",
       "1980-10-04 00:00:00+00:00       285.0             A  06758500\n",
       "1980-10-05 00:00:00+00:00       274.0             A  06758500\n",
       "...                               ...           ...       ...\n",
       "2007-09-25 00:00:00+00:00       203.0             A  06758500\n",
       "2007-09-26 00:00:00+00:00       363.0             A  06758500\n",
       "2007-09-27 00:00:00+00:00       564.0             A  06758500\n",
       "2007-09-28 00:00:00+00:00       527.0             A  06758500\n",
       "2007-09-29 00:00:00+00:00       486.0             A  06758500\n",
       "\n",
       "[9860 rows x 3 columns]"
      ]
     },
     "execution_count": 25,
     "metadata": {},
     "output_type": "execute_result"
    }
   ],
   "source": [
    "df"
   ]
  },
  {
   "cell_type": "code",
   "execution_count": 26,
   "id": "engaged-thread",
   "metadata": {},
   "outputs": [],
   "source": [
    "from hydrodata import NWIS\n",
    "qobs = NWIS().get_streamflow(site, (\"1980-01-01\", \"2007-12-31\"))"
   ]
  },
  {
   "cell_type": "code",
   "execution_count": 27,
   "id": "flying-hello",
   "metadata": {},
   "outputs": [
    {
     "data": {
      "text/plain": [
       "pandas.core.series.Series"
      ]
     },
     "execution_count": 27,
     "metadata": {},
     "output_type": "execute_result"
    }
   ],
   "source": [
    "type(qobs['USGS-06758500'])"
   ]
  },
  {
   "cell_type": "markdown",
   "id": "significant-conversion",
   "metadata": {},
   "source": [
    "# Comparison of observed vs simulated"
   ]
  },
  {
   "cell_type": "code",
   "execution_count": 28,
   "id": "protecting-camera",
   "metadata": {},
   "outputs": [
    {
     "data": {
      "text/plain": [
       "<matplotlib.legend.Legend at 0x192d4351a90>"
      ]
     },
     "execution_count": 28,
     "metadata": {},
     "output_type": "execute_result"
    },
    {
     "data": {
      "image/png": "[encoded data removed]",
      "text/plain": [
       "<Figure size 864x288 with 1 Axes>"
      ]
     },
     "metadata": {
      "needs_background": "light"
     },
     "output_type": "display_data"
    }
   ],
   "source": [
    "fig, axs = plt.subplots(figsize=(12, 4))\n",
    "qobs['USGS-06758500'].plot(ax=axs, label=\"observed\")\n",
    "nhm_seg_ouflow_cms.plot(ax=axs, label=\"simulated\")\n",
    "axs.legend()"
   ]
  },
  {
   "cell_type": "code",
   "execution_count": 29,
   "id": "leading-diagnosis",
   "metadata": {},
   "outputs": [
    {
     "data": {
      "text/html": [
       "<div>\n",
       "<style scoped>\n",
       "    .dataframe tbody tr th:only-of-type {\n",
       "        vertical-align: middle;\n",
       "    }\n",
       "\n",
       "    .dataframe tbody tr th {\n",
       "        vertical-align: top;\n",
       "    }\n",
       "\n",
       "    .dataframe thead th {\n",
       "        text-align: right;\n",
       "    }\n",
       "</style>\n",
       "<table border=\"1\" class=\"dataframe\">\n",
       "  <thead>\n",
       "    <tr style=\"text-align: right;\">\n",
       "      <th></th>\n",
       "      <th>USGS-06758500</th>\n",
       "    </tr>\n",
       "    <tr>\n",
       "      <th>dateTime</th>\n",
       "      <th></th>\n",
       "    </tr>\n",
       "  </thead>\n",
       "  <tbody>\n",
       "    <tr>\n",
       "      <th>1980-01-01</th>\n",
       "      <td>24.947142</td>\n",
       "    </tr>\n",
       "    <tr>\n",
       "      <th>1980-01-02</th>\n",
       "      <td>26.561202</td>\n",
       "    </tr>\n",
       "    <tr>\n",
       "      <th>1980-01-03</th>\n",
       "      <td>25.541796</td>\n",
       "    </tr>\n",
       "    <tr>\n",
       "      <th>1980-01-04</th>\n",
       "      <td>25.343578</td>\n",
       "    </tr>\n",
       "    <tr>\n",
       "      <th>1980-01-05</th>\n",
       "      <td>25.485162</td>\n",
       "    </tr>\n",
       "    <tr>\n",
       "      <th>...</th>\n",
       "      <td>...</td>\n",
       "    </tr>\n",
       "    <tr>\n",
       "      <th>2007-09-25</th>\n",
       "      <td>5.748320</td>\n",
       "    </tr>\n",
       "    <tr>\n",
       "      <th>2007-09-26</th>\n",
       "      <td>10.279015</td>\n",
       "    </tr>\n",
       "    <tr>\n",
       "      <th>2007-09-27</th>\n",
       "      <td>15.970701</td>\n",
       "    </tr>\n",
       "    <tr>\n",
       "      <th>2007-09-28</th>\n",
       "      <td>14.922978</td>\n",
       "    </tr>\n",
       "    <tr>\n",
       "      <th>2007-09-29</th>\n",
       "      <td>13.761987</td>\n",
       "    </tr>\n",
       "  </tbody>\n",
       "</table>\n",
       "<p>10134 rows × 1 columns</p>\n",
       "</div>"
      ],
      "text/plain": [
       "            USGS-06758500\n",
       "dateTime                 \n",
       "1980-01-01      24.947142\n",
       "1980-01-02      26.561202\n",
       "1980-01-03      25.541796\n",
       "1980-01-04      25.343578\n",
       "1980-01-05      25.485162\n",
       "...                   ...\n",
       "2007-09-25       5.748320\n",
       "2007-09-26      10.279015\n",
       "2007-09-27      15.970701\n",
       "2007-09-28      14.922978\n",
       "2007-09-29      13.761987\n",
       "\n",
       "[10134 rows x 1 columns]"
      ]
     },
     "execution_count": 29,
     "metadata": {},
     "output_type": "execute_result"
    }
   ],
   "source": [
    "qobs"
   ]
  },
  {
   "cell_type": "code",
   "execution_count": null,
   "id": "fewer-appliance",
   "metadata": {},
   "outputs": [],
   "source": []
  }
 ],
 "metadata": {
  "kernelspec": {
   "display_name": "Python 3",
   "language": "python",
   "name": "python3"
  },
  "language_info": {
   "codemirror_mode": {
    "name": "ipython",
    "version": 3
   },
   "file_extension": ".py",
   "mimetype": "text/x-python",
   "name": "python",
   "nbconvert_exporter": "python",
   "pygments_lexer": "ipython3",
   "version": "3.8.6"
  }
 },
 "nbformat": 4,
 "nbformat_minor": 5
}
