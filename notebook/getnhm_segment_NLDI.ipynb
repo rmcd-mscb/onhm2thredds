{
 "cells": [
  {
   "cell_type": "markdown",
   "metadata": {},
   "source": [
    "# Initial demo of model output via Thredds and NLDI\n",
    "* demo uses siphon to search existing thredds catalog of onhm ouput (note this is still very experimental).  \n",
    "* seg_outflow is assigned to a variable\n",
    "* Search NLDI for NHM POI.  POIs provide the cross-walk between the specific model fabric, and the common NHD+ fabric.\n",
    "* NLDI is searched for all gages and streamsegments upstream of gage 06759500 on the S. Platte River at Fort Morgan.\n",
    "* Example comparison is given for observed and simulated streamflow \n"
   ]
  },
  {
   "cell_type": "code",
   "execution_count": 1,
   "metadata": {},
   "outputs": [],
   "source": [
    "import py3dep\n",
    "import xarray as xr\n",
    "from matplotlib import pyplot as plt\n",
    "import numpy as np\n",
    "import pandas as pd\n",
    "import geopandas as gpd\n",
    "from pathlib import Path\n",
    "import dataretrieval.nwis as nwis\n",
    "from siphon.catalog import TDSCatalog"
   ]
  },
  {
   "cell_type": "code",
   "execution_count": 24,
   "metadata": {},
   "outputs": [],
   "source": [
    "# Current test location of NHM ouput\n",
    "# catalog = TDSCatalog(\"http://gdp-netcdfdev.cr.usgs.gov:8080/thredds/catalog/ONHM_OUTPUT/files/catalog.xml\")\n",
    "catalog = TDSCatalog(\"https://cida.usgs.gov/thredds/catalog/demo/thredds/nhm/catalog.xml\")"
   ]
  },
  {
   "cell_type": "code",
   "execution_count": 25,
   "metadata": {},
   "outputs": [
    {
     "name": "stdout",
     "output_type": "stream",
     "text": [
      "seg_outflow.nc\n",
      "nhm1_seg.ncml\n"
     ]
    }
   ],
   "source": [
    "print(\"\\n\".join(catalog.datasets.keys()))"
   ]
  },
  {
   "cell_type": "code",
   "execution_count": 26,
   "metadata": {},
   "outputs": [
    {
     "name": "stdout",
     "output_type": "stream",
     "text": [
      "seg_outflow.nc demo/thredds/nhm/seg_outflow.nc {'OPENDAP': 'https://cida.usgs.gov/thredds/dodsC/demo/thredds/nhm/seg_outflow.nc', 'NetcdfSubset': 'https://cida.usgs.gov/thredds/ncss/demo/thredds/nhm/seg_outflow.nc', 'HTTPServer': 'https://cida.usgs.gov/thredds/fileServer/demo/thredds/nhm/seg_outflow.nc'} <class 'siphon.catalog.Dataset'>\n"
     ]
    }
   ],
   "source": [
    "dataset = 'seg_outflow.nc'\n",
    "ds = catalog.datasets[dataset]\n",
    "print(ds.name, ds.url_path, ds.access_urls, type(ds))"
   ]
  },
  {
   "cell_type": "code",
   "execution_count": 27,
   "metadata": {},
   "outputs": [],
   "source": [
    "data = ds.remote_access(service='OPENDAP', use_xarray=True)"
   ]
  },
  {
   "cell_type": "code",
   "execution_count": 28,
   "metadata": {},
   "outputs": [
    {
     "data": {
      "text/plain": [
       "{'long_name': 'Streamflow leaving a segment',\n",
       " 'units': 'cfs',\n",
       " '_ChunkSizes': array([ 46, 178])}"
      ]
     },
     "execution_count": 28,
     "metadata": {},
     "output_type": "execute_result"
    }
   ],
   "source": [
    "data.seg_outflow.attrs"
   ]
  },
  {
   "cell_type": "code",
   "execution_count": 43,
   "metadata": {},
   "outputs": [
    {
     "data": {
      "text/html": [
       "<div><svg style=\"position: absolute; width: 0; height: 0; overflow: hidden\">\n",
       "<defs>\n",
       "<symbol id=\"icon-database\" viewBox=\"0 0 32 32\">\n",
       "<path d=\"M16 0c-8.837 0-16 2.239-16 5v4c0 2.761 7.163 5 16 5s16-2.239 16-5v-4c0-2.761-7.163-5-16-5z\"></path>\n",
       "<path d=\"M16 17c-8.837 0-16-2.239-16-5v6c0 2.761 7.163 5 16 5s16-2.239 16-5v-6c0 2.761-7.163 5-16 5z\"></path>\n",
       "<path d=\"M16 26c-8.837 0-16-2.239-16-5v6c0 2.761 7.163 5 16 5s16-2.239 16-5v-6c0 2.761-7.163 5-16 5z\"></path>\n",
       "</symbol>\n",
       "<symbol id=\"icon-file-text2\" viewBox=\"0 0 32 32\">\n",
       "<path d=\"M28.681 7.159c-0.694-0.947-1.662-2.053-2.724-3.116s-2.169-2.030-3.116-2.724c-1.612-1.182-2.393-1.319-2.841-1.319h-15.5c-1.378 0-2.5 1.121-2.5 2.5v27c0 1.378 1.122 2.5 2.5 2.5h23c1.378 0 2.5-1.122 2.5-2.5v-19.5c0-0.448-0.137-1.23-1.319-2.841zM24.543 5.457c0.959 0.959 1.712 1.825 2.268 2.543h-4.811v-4.811c0.718 0.556 1.584 1.309 2.543 2.268zM28 29.5c0 0.271-0.229 0.5-0.5 0.5h-23c-0.271 0-0.5-0.229-0.5-0.5v-27c0-0.271 0.229-0.5 0.5-0.5 0 0 15.499-0 15.5 0v7c0 0.552 0.448 1 1 1h7v19.5z\"></path>\n",
       "<path d=\"M23 26h-14c-0.552 0-1-0.448-1-1s0.448-1 1-1h14c0.552 0 1 0.448 1 1s-0.448 1-1 1z\"></path>\n",
       "<path d=\"M23 22h-14c-0.552 0-1-0.448-1-1s0.448-1 1-1h14c0.552 0 1 0.448 1 1s-0.448 1-1 1z\"></path>\n",
       "<path d=\"M23 18h-14c-0.552 0-1-0.448-1-1s0.448-1 1-1h14c0.552 0 1 0.448 1 1s-0.448 1-1 1z\"></path>\n",
       "</symbol>\n",
       "</defs>\n",
       "</svg>\n",
       "<style>/* CSS stylesheet for displaying xarray objects in jupyterlab.\n",
       " *\n",
       " */\n",
       "\n",
       ":root {\n",
       "  --xr-font-color0: var(--jp-content-font-color0, rgba(0, 0, 0, 1));\n",
       "  --xr-font-color2: var(--jp-content-font-color2, rgba(0, 0, 0, 0.54));\n",
       "  --xr-font-color3: var(--jp-content-font-color3, rgba(0, 0, 0, 0.38));\n",
       "  --xr-border-color: var(--jp-border-color2, #e0e0e0);\n",
       "  --xr-disabled-color: var(--jp-layout-color3, #bdbdbd);\n",
       "  --xr-background-color: var(--jp-layout-color0, white);\n",
       "  --xr-background-color-row-even: var(--jp-layout-color1, white);\n",
       "  --xr-background-color-row-odd: var(--jp-layout-color2, #eeeeee);\n",
       "}\n",
       "\n",
       "html[theme=dark],\n",
       "body.vscode-dark {\n",
       "  --xr-font-color0: rgba(255, 255, 255, 1);\n",
       "  --xr-font-color2: rgba(255, 255, 255, 0.54);\n",
       "  --xr-font-color3: rgba(255, 255, 255, 0.38);\n",
       "  --xr-border-color: #1F1F1F;\n",
       "  --xr-disabled-color: #515151;\n",
       "  --xr-background-color: #111111;\n",
       "  --xr-background-color-row-even: #111111;\n",
       "  --xr-background-color-row-odd: #313131;\n",
       "}\n",
       "\n",
       ".xr-wrap {\n",
       "  display: block;\n",
       "  min-width: 300px;\n",
       "  max-width: 700px;\n",
       "}\n",
       "\n",
       ".xr-text-repr-fallback {\n",
       "  /* fallback to plain text repr when CSS is not injected (untrusted notebook) */\n",
       "  display: none;\n",
       "}\n",
       "\n",
       ".xr-header {\n",
       "  padding-top: 6px;\n",
       "  padding-bottom: 6px;\n",
       "  margin-bottom: 4px;\n",
       "  border-bottom: solid 1px var(--xr-border-color);\n",
       "}\n",
       "\n",
       ".xr-header > div,\n",
       ".xr-header > ul {\n",
       "  display: inline;\n",
       "  margin-top: 0;\n",
       "  margin-bottom: 0;\n",
       "}\n",
       "\n",
       ".xr-obj-type,\n",
       ".xr-array-name {\n",
       "  margin-left: 2px;\n",
       "  margin-right: 10px;\n",
       "}\n",
       "\n",
       ".xr-obj-type {\n",
       "  color: var(--xr-font-color2);\n",
       "}\n",
       "\n",
       ".xr-sections {\n",
       "  padding-left: 0 !important;\n",
       "  display: grid;\n",
       "  grid-template-columns: 150px auto auto 1fr 20px 20px;\n",
       "}\n",
       "\n",
       ".xr-section-item {\n",
       "  display: contents;\n",
       "}\n",
       "\n",
       ".xr-section-item input {\n",
       "  display: none;\n",
       "}\n",
       "\n",
       ".xr-section-item input + label {\n",
       "  color: var(--xr-disabled-color);\n",
       "}\n",
       "\n",
       ".xr-section-item input:enabled + label {\n",
       "  cursor: pointer;\n",
       "  color: var(--xr-font-color2);\n",
       "}\n",
       "\n",
       ".xr-section-item input:enabled + label:hover {\n",
       "  color: var(--xr-font-color0);\n",
       "}\n",
       "\n",
       ".xr-section-summary {\n",
       "  grid-column: 1;\n",
       "  color: var(--xr-font-color2);\n",
       "  font-weight: 500;\n",
       "}\n",
       "\n",
       ".xr-section-summary > span {\n",
       "  display: inline-block;\n",
       "  padding-left: 0.5em;\n",
       "}\n",
       "\n",
       ".xr-section-summary-in:disabled + label {\n",
       "  color: var(--xr-font-color2);\n",
       "}\n",
       "\n",
       ".xr-section-summary-in + label:before {\n",
       "  display: inline-block;\n",
       "  content: '►';\n",
       "  font-size: 11px;\n",
       "  width: 15px;\n",
       "  text-align: center;\n",
       "}\n",
       "\n",
       ".xr-section-summary-in:disabled + label:before {\n",
       "  color: var(--xr-disabled-color);\n",
       "}\n",
       "\n",
       ".xr-section-summary-in:checked + label:before {\n",
       "  content: '▼';\n",
       "}\n",
       "\n",
       ".xr-section-summary-in:checked + label > span {\n",
       "  display: none;\n",
       "}\n",
       "\n",
       ".xr-section-summary,\n",
       ".xr-section-inline-details {\n",
       "  padding-top: 4px;\n",
       "  padding-bottom: 4px;\n",
       "}\n",
       "\n",
       ".xr-section-inline-details {\n",
       "  grid-column: 2 / -1;\n",
       "}\n",
       "\n",
       ".xr-section-details {\n",
       "  display: none;\n",
       "  grid-column: 1 / -1;\n",
       "  margin-bottom: 5px;\n",
       "}\n",
       "\n",
       ".xr-section-summary-in:checked ~ .xr-section-details {\n",
       "  display: contents;\n",
       "}\n",
       "\n",
       ".xr-array-wrap {\n",
       "  grid-column: 1 / -1;\n",
       "  display: grid;\n",
       "  grid-template-columns: 20px auto;\n",
       "}\n",
       "\n",
       ".xr-array-wrap > label {\n",
       "  grid-column: 1;\n",
       "  vertical-align: top;\n",
       "}\n",
       "\n",
       ".xr-preview {\n",
       "  color: var(--xr-font-color3);\n",
       "}\n",
       "\n",
       ".xr-array-preview,\n",
       ".xr-array-data {\n",
       "  padding: 0 5px !important;\n",
       "  grid-column: 2;\n",
       "}\n",
       "\n",
       ".xr-array-data,\n",
       ".xr-array-in:checked ~ .xr-array-preview {\n",
       "  display: none;\n",
       "}\n",
       "\n",
       ".xr-array-in:checked ~ .xr-array-data,\n",
       ".xr-array-preview {\n",
       "  display: inline-block;\n",
       "}\n",
       "\n",
       ".xr-dim-list {\n",
       "  display: inline-block !important;\n",
       "  list-style: none;\n",
       "  padding: 0 !important;\n",
       "  margin: 0;\n",
       "}\n",
       "\n",
       ".xr-dim-list li {\n",
       "  display: inline-block;\n",
       "  padding: 0;\n",
       "  margin: 0;\n",
       "}\n",
       "\n",
       ".xr-dim-list:before {\n",
       "  content: '(';\n",
       "}\n",
       "\n",
       ".xr-dim-list:after {\n",
       "  content: ')';\n",
       "}\n",
       "\n",
       ".xr-dim-list li:not(:last-child):after {\n",
       "  content: ',';\n",
       "  padding-right: 5px;\n",
       "}\n",
       "\n",
       ".xr-has-index {\n",
       "  font-weight: bold;\n",
       "}\n",
       "\n",
       ".xr-var-list,\n",
       ".xr-var-item {\n",
       "  display: contents;\n",
       "}\n",
       "\n",
       ".xr-var-item > div,\n",
       ".xr-var-item label,\n",
       ".xr-var-item > .xr-var-name span {\n",
       "  background-color: var(--xr-background-color-row-even);\n",
       "  margin-bottom: 0;\n",
       "}\n",
       "\n",
       ".xr-var-item > .xr-var-name:hover span {\n",
       "  padding-right: 5px;\n",
       "}\n",
       "\n",
       ".xr-var-list > li:nth-child(odd) > div,\n",
       ".xr-var-list > li:nth-child(odd) > label,\n",
       ".xr-var-list > li:nth-child(odd) > .xr-var-name span {\n",
       "  background-color: var(--xr-background-color-row-odd);\n",
       "}\n",
       "\n",
       ".xr-var-name {\n",
       "  grid-column: 1;\n",
       "}\n",
       "\n",
       ".xr-var-dims {\n",
       "  grid-column: 2;\n",
       "}\n",
       "\n",
       ".xr-var-dtype {\n",
       "  grid-column: 3;\n",
       "  text-align: right;\n",
       "  color: var(--xr-font-color2);\n",
       "}\n",
       "\n",
       ".xr-var-preview {\n",
       "  grid-column: 4;\n",
       "}\n",
       "\n",
       ".xr-var-name,\n",
       ".xr-var-dims,\n",
       ".xr-var-dtype,\n",
       ".xr-preview,\n",
       ".xr-attrs dt {\n",
       "  white-space: nowrap;\n",
       "  overflow: hidden;\n",
       "  text-overflow: ellipsis;\n",
       "  padding-right: 10px;\n",
       "}\n",
       "\n",
       ".xr-var-name:hover,\n",
       ".xr-var-dims:hover,\n",
       ".xr-var-dtype:hover,\n",
       ".xr-attrs dt:hover {\n",
       "  overflow: visible;\n",
       "  width: auto;\n",
       "  z-index: 1;\n",
       "}\n",
       "\n",
       ".xr-var-attrs,\n",
       ".xr-var-data {\n",
       "  display: none;\n",
       "  background-color: var(--xr-background-color) !important;\n",
       "  padding-bottom: 5px !important;\n",
       "}\n",
       "\n",
       ".xr-var-attrs-in:checked ~ .xr-var-attrs,\n",
       ".xr-var-data-in:checked ~ .xr-var-data {\n",
       "  display: block;\n",
       "}\n",
       "\n",
       ".xr-var-data > table {\n",
       "  float: right;\n",
       "}\n",
       "\n",
       ".xr-var-name span,\n",
       ".xr-var-data,\n",
       ".xr-attrs {\n",
       "  padding-left: 25px !important;\n",
       "}\n",
       "\n",
       ".xr-attrs,\n",
       ".xr-var-attrs,\n",
       ".xr-var-data {\n",
       "  grid-column: 1 / -1;\n",
       "}\n",
       "\n",
       "dl.xr-attrs {\n",
       "  padding: 0;\n",
       "  margin: 0;\n",
       "  display: grid;\n",
       "  grid-template-columns: 125px auto;\n",
       "}\n",
       "\n",
       ".xr-attrs dt,\n",
       ".xr-attrs dd {\n",
       "  padding: 0;\n",
       "  margin: 0;\n",
       "  float: left;\n",
       "  padding-right: 10px;\n",
       "  width: auto;\n",
       "}\n",
       "\n",
       ".xr-attrs dt {\n",
       "  font-weight: normal;\n",
       "  grid-column: 1;\n",
       "}\n",
       "\n",
       ".xr-attrs dt:hover span {\n",
       "  display: inline-block;\n",
       "  background: var(--xr-background-color);\n",
       "  padding-right: 10px;\n",
       "}\n",
       "\n",
       ".xr-attrs dd {\n",
       "  grid-column: 2;\n",
       "  white-space: pre-wrap;\n",
       "  word-break: break-all;\n",
       "}\n",
       "\n",
       ".xr-icon-database,\n",
       ".xr-icon-file-text2 {\n",
       "  display: inline-block;\n",
       "  vertical-align: middle;\n",
       "  width: 1em;\n",
       "  height: 1.5em !important;\n",
       "  stroke-width: 0;\n",
       "  stroke: currentColor;\n",
       "  fill: currentColor;\n",
       "}\n",
       "</style><pre class='xr-text-repr-fallback'>&lt;xarray.Dataset&gt;\n",
       "Dimensions:      (nsegment: 58489, time: 14975)\n",
       "Coordinates:\n",
       "  * time         (time) datetime64[ns] 1979-01-01 1979-01-02 ... 2019-12-31\n",
       "  * nsegment     (nsegment) int32 1 2 3 4 5 6 ... 58485 58486 58487 58488 58489\n",
       "Data variables:\n",
       "    nhm_seg      (nsegment) int32 1 10 2 5 3 4 ... 58482 58483 58484 58485 58486\n",
       "    seg_outflow  (time, nsegment) float32 ...\n",
       "Attributes:\n",
       "    DODS_EXTRA.Unlimited_Dimension:  time</pre><div class='xr-wrap' hidden><div class='xr-header'><div class='xr-obj-type'>xarray.Dataset</div></div><ul class='xr-sections'><li class='xr-section-item'><input id='section-a0e6d8ff-5475-4355-a609-d6fe0b09eab5' class='xr-section-summary-in' type='checkbox' disabled ><label for='section-a0e6d8ff-5475-4355-a609-d6fe0b09eab5' class='xr-section-summary'  title='Expand/collapse section'>Dimensions:</label><div class='xr-section-inline-details'><ul class='xr-dim-list'><li><span class='xr-has-index'>nsegment</span>: 58489</li><li><span class='xr-has-index'>time</span>: 14975</li></ul></div><div class='xr-section-details'></div></li><li class='xr-section-item'><input id='section-cfb941bf-158f-4207-addf-da178621487c' class='xr-section-summary-in' type='checkbox'  checked><label for='section-cfb941bf-158f-4207-addf-da178621487c' class='xr-section-summary' >Coordinates: <span>(2)</span></label><div class='xr-section-inline-details'></div><div class='xr-section-details'><ul class='xr-var-list'><li class='xr-var-item'><div class='xr-var-name'><span class='xr-has-index'>time</span></div><div class='xr-var-dims'>(time)</div><div class='xr-var-dtype'>datetime64[ns]</div><div class='xr-var-preview xr-preview'>1979-01-01 ... 2019-12-31</div><input id='attrs-8c769a77-57f2-4a71-b549-cd8519a852ed' class='xr-var-attrs-in' type='checkbox' ><label for='attrs-8c769a77-57f2-4a71-b549-cd8519a852ed' title='Show/Hide attributes'><svg class='icon xr-icon-file-text2'><use xlink:href='#icon-file-text2'></use></svg></label><input id='data-0125cf52-431c-4887-a174-75d09bb2d389' class='xr-var-data-in' type='checkbox'><label for='data-0125cf52-431c-4887-a174-75d09bb2d389' title='Show/Hide data repr'><svg class='icon xr-icon-database'><use xlink:href='#icon-database'></use></svg></label><div class='xr-var-attrs'><dl class='xr-attrs'><dt><span>_ChunkSizes :</span></dt><dd>1024</dd></dl></div><div class='xr-var-data'><pre>array([&#x27;1979-01-01T00:00:00.000000000&#x27;, &#x27;1979-01-02T00:00:00.000000000&#x27;,\n",
       "       &#x27;1979-01-03T00:00:00.000000000&#x27;, ..., &#x27;2019-12-29T00:00:00.000000000&#x27;,\n",
       "       &#x27;2019-12-30T00:00:00.000000000&#x27;, &#x27;2019-12-31T00:00:00.000000000&#x27;],\n",
       "      dtype=&#x27;datetime64[ns]&#x27;)</pre></div></li><li class='xr-var-item'><div class='xr-var-name'><span class='xr-has-index'>nsegment</span></div><div class='xr-var-dims'>(nsegment)</div><div class='xr-var-dtype'>int32</div><div class='xr-var-preview xr-preview'>1 2 3 4 ... 58486 58487 58488 58489</div><input id='attrs-f66b903a-9e1d-4b78-bd2d-8e025e691773' class='xr-var-attrs-in' type='checkbox' ><label for='attrs-f66b903a-9e1d-4b78-bd2d-8e025e691773' title='Show/Hide attributes'><svg class='icon xr-icon-file-text2'><use xlink:href='#icon-file-text2'></use></svg></label><input id='data-4f4ecd29-ff76-4aa1-b106-093710005f00' class='xr-var-data-in' type='checkbox'><label for='data-4f4ecd29-ff76-4aa1-b106-093710005f00' title='Show/Hide data repr'><svg class='icon xr-icon-database'><use xlink:href='#icon-database'></use></svg></label><div class='xr-var-attrs'><dl class='xr-attrs'><dt><span>long_name :</span></dt><dd>Local model segment ID</dd></dl></div><div class='xr-var-data'><pre>array([    1,     2,     3, ..., 58487, 58488, 58489])</pre></div></li></ul></div></li><li class='xr-section-item'><input id='section-256f3cc6-5573-4f5e-8a6b-6f38615c3011' class='xr-section-summary-in' type='checkbox'  checked><label for='section-256f3cc6-5573-4f5e-8a6b-6f38615c3011' class='xr-section-summary' >Data variables: <span>(2)</span></label><div class='xr-section-inline-details'></div><div class='xr-section-details'><ul class='xr-var-list'><li class='xr-var-item'><div class='xr-var-name'><span>nhm_seg</span></div><div class='xr-var-dims'>(nsegment)</div><div class='xr-var-dtype'>int32</div><div class='xr-var-preview xr-preview'>...</div><input id='attrs-0178ccee-5088-4939-909b-fe186a3a58e8' class='xr-var-attrs-in' type='checkbox' ><label for='attrs-0178ccee-5088-4939-909b-fe186a3a58e8' title='Show/Hide attributes'><svg class='icon xr-icon-file-text2'><use xlink:href='#icon-file-text2'></use></svg></label><input id='data-cf260160-341b-4629-bea4-823bbf631605' class='xr-var-data-in' type='checkbox'><label for='data-cf260160-341b-4629-bea4-823bbf631605' title='Show/Hide data repr'><svg class='icon xr-icon-database'><use xlink:href='#icon-database'></use></svg></label><div class='xr-var-attrs'><dl class='xr-attrs'><dt><span>long_name :</span></dt><dd>NHM segment ID</dd></dl></div><div class='xr-var-data'><pre>array([    1,    10,     2, ..., 58484, 58485, 58486])</pre></div></li><li class='xr-var-item'><div class='xr-var-name'><span>seg_outflow</span></div><div class='xr-var-dims'>(time, nsegment)</div><div class='xr-var-dtype'>float32</div><div class='xr-var-preview xr-preview'>...</div><input id='attrs-69c946b2-6f98-4e46-a2f7-634ff8a4567d' class='xr-var-attrs-in' type='checkbox' ><label for='attrs-69c946b2-6f98-4e46-a2f7-634ff8a4567d' title='Show/Hide attributes'><svg class='icon xr-icon-file-text2'><use xlink:href='#icon-file-text2'></use></svg></label><input id='data-3c6906c5-e50d-4e8c-9b53-e34ba46978a1' class='xr-var-data-in' type='checkbox'><label for='data-3c6906c5-e50d-4e8c-9b53-e34ba46978a1' title='Show/Hide data repr'><svg class='icon xr-icon-database'><use xlink:href='#icon-database'></use></svg></label><div class='xr-var-attrs'><dl class='xr-attrs'><dt><span>long_name :</span></dt><dd>Streamflow leaving a segment</dd><dt><span>units :</span></dt><dd>cfs</dd><dt><span>_ChunkSizes :</span></dt><dd>[ 46 178]</dd></dl></div><div class='xr-var-data'><pre>[875872775 values with dtype=float32]</pre></div></li></ul></div></li><li class='xr-section-item'><input id='section-8041f7e8-cd30-4d28-a3a1-55f3addd1241' class='xr-section-summary-in' type='checkbox'  checked><label for='section-8041f7e8-cd30-4d28-a3a1-55f3addd1241' class='xr-section-summary' >Attributes: <span>(1)</span></label><div class='xr-section-inline-details'></div><div class='xr-section-details'><dl class='xr-attrs'><dt><span>DODS_EXTRA.Unlimited_Dimension :</span></dt><dd>time</dd></dl></div></li></ul></div></div>"
      ],
      "text/plain": [
       "<xarray.Dataset>\n",
       "Dimensions:      (nsegment: 58489, time: 14975)\n",
       "Coordinates:\n",
       "  * time         (time) datetime64[ns] 1979-01-01 1979-01-02 ... 2019-12-31\n",
       "  * nsegment     (nsegment) int32 1 2 3 4 5 6 ... 58485 58486 58487 58488 58489\n",
       "Data variables:\n",
       "    nhm_seg      (nsegment) int32 ...\n",
       "    seg_outflow  (time, nsegment) float32 ...\n",
       "Attributes:\n",
       "    DODS_EXTRA.Unlimited_Dimension:  time"
      ]
     },
     "execution_count": 43,
     "metadata": {},
     "output_type": "execute_result"
    }
   ],
   "source": [
    "data"
   ]
  },
  {
   "cell_type": "markdown",
   "metadata": {},
   "source": [
    "# Connect NHM Model ouput on THREDDS with NLDI.\n",
    "* use GFv11 POI interest, which contains NHD comid for each stream segment.\n",
    "* GFv11 POIs made available to NLDI through geoconnex\n",
    "\n",
    "## Use hyriver python tools which have a nice wrapper around NLDI and NWIS\n",
    "* https://hyriver.readthedocs.io/en/latest/"
   ]
  },
  {
   "cell_type": "code",
   "execution_count": 29,
   "metadata": {},
   "outputs": [],
   "source": [
    "import hydrodata as hd\n",
    "from hydrodata import NWIS, plot\n",
    "from pynhd import NLDI, NHDPlusHR, WaterData"
   ]
  },
  {
   "cell_type": "markdown",
   "metadata": {},
   "source": [
    "### Search NLDI by navigating above USGS-06759500 gage on S. Platt River above Fort Morgan, CO\n",
    "* grab all comids and gages on main flowline.  \n",
    "* Use station comids to filter NHM POIs"
   ]
  },
  {
   "cell_type": "code",
   "execution_count": 30,
   "metadata": {},
   "outputs": [],
   "source": [
    "gage_id = '06759500'\n",
    "nldi_flw_main = NLDI().navigate_byid(fsource=\"nwissite\",\n",
    "                             fid=f\"USGS-{gage_id}\",\n",
    "                             navigation=\"upstreamMain\",\n",
    "                             source=\"flowlines\",\n",
    "                             distance=50)\n",
    "\n",
    "nldi_st_all = NLDI().navigate_byid(fsource=\"nwissite\",\n",
    "                             fid=f\"USGS-{gage_id}\",\n",
    "                             navigation=\"upstreamMain\",\n",
    "                             source=\"nwissite\",\n",
    "                             distance=50)\n",
    "\n",
    "nldi_POI_all = NLDI().navigate_byid(fsource=\"nwissite\",\n",
    "                             fid=f\"USGS-{gage_id}\",\n",
    "                             navigation=\"upstreamMain\",\n",
    "                             source=\"gfv11_pois\",\n",
    "                             distance=50)"
   ]
  },
  {
   "cell_type": "code",
   "execution_count": 31,
   "metadata": {},
   "outputs": [
    {
     "data": {
      "text/html": [
       "<div>\n",
       "<style scoped>\n",
       "    .dataframe tbody tr th:only-of-type {\n",
       "        vertical-align: middle;\n",
       "    }\n",
       "\n",
       "    .dataframe tbody tr th {\n",
       "        vertical-align: top;\n",
       "    }\n",
       "\n",
       "    .dataframe thead th {\n",
       "        text-align: right;\n",
       "    }\n",
       "</style>\n",
       "<table border=\"1\" class=\"dataframe\">\n",
       "  <thead>\n",
       "    <tr style=\"text-align: right;\">\n",
       "      <th></th>\n",
       "      <th>geometry</th>\n",
       "      <th>nhdplus_comid</th>\n",
       "    </tr>\n",
       "  </thead>\n",
       "  <tbody>\n",
       "    <tr>\n",
       "      <th>0</th>\n",
       "      <td>LINESTRING (-103.80253 40.26874, -103.80151 40...</td>\n",
       "      <td>3561878</td>\n",
       "    </tr>\n",
       "    <tr>\n",
       "      <th>1</th>\n",
       "      <td>LINESTRING (-103.82914 40.27436, -103.82747 40...</td>\n",
       "      <td>3561874</td>\n",
       "    </tr>\n",
       "    <tr>\n",
       "      <th>2</th>\n",
       "      <td>LINESTRING (-103.83380 40.27505, -103.83288 40...</td>\n",
       "      <td>3561872</td>\n",
       "    </tr>\n",
       "    <tr>\n",
       "      <th>3</th>\n",
       "      <td>LINESTRING (-103.84725 40.28259, -103.84632 40...</td>\n",
       "      <td>3561928</td>\n",
       "    </tr>\n",
       "    <tr>\n",
       "      <th>4</th>\n",
       "      <td>LINESTRING (-103.84846 40.28266, -103.84830 40...</td>\n",
       "      <td>3561850</td>\n",
       "    </tr>\n",
       "  </tbody>\n",
       "</table>\n",
       "</div>"
      ],
      "text/plain": [
       "                                            geometry nhdplus_comid\n",
       "0  LINESTRING (-103.80253 40.26874, -103.80151 40...       3561878\n",
       "1  LINESTRING (-103.82914 40.27436, -103.82747 40...       3561874\n",
       "2  LINESTRING (-103.83380 40.27505, -103.83288 40...       3561872\n",
       "3  LINESTRING (-103.84725 40.28259, -103.84632 40...       3561928\n",
       "4  LINESTRING (-103.84846 40.28266, -103.84830 40...       3561850"
      ]
     },
     "execution_count": 31,
     "metadata": {},
     "output_type": "execute_result"
    }
   ],
   "source": [
    "nldi_flw_main.head()"
   ]
  },
  {
   "cell_type": "code",
   "execution_count": 32,
   "metadata": {},
   "outputs": [
    {
     "data": {
      "text/html": [
       "<div>\n",
       "<style scoped>\n",
       "    .dataframe tbody tr th:only-of-type {\n",
       "        vertical-align: middle;\n",
       "    }\n",
       "\n",
       "    .dataframe tbody tr th {\n",
       "        vertical-align: top;\n",
       "    }\n",
       "\n",
       "    .dataframe thead th {\n",
       "        text-align: right;\n",
       "    }\n",
       "</style>\n",
       "<table border=\"1\" class=\"dataframe\">\n",
       "  <thead>\n",
       "    <tr style=\"text-align: right;\">\n",
       "      <th></th>\n",
       "      <th>geometry</th>\n",
       "      <th>source</th>\n",
       "      <th>sourceName</th>\n",
       "      <th>identifier</th>\n",
       "      <th>name</th>\n",
       "      <th>uri</th>\n",
       "      <th>comid</th>\n",
       "      <th>reachcode</th>\n",
       "      <th>measure</th>\n",
       "      <th>navigation</th>\n",
       "    </tr>\n",
       "  </thead>\n",
       "  <tbody>\n",
       "    <tr>\n",
       "      <th>0</th>\n",
       "      <td>POINT (-104.24467 40.30637)</td>\n",
       "      <td>nwissite</td>\n",
       "      <td>NWIS Sites</td>\n",
       "      <td>USGS-401823104143900</td>\n",
       "      <td>SOUTH PLATTE RIVER AT MASTERS, CO</td>\n",
       "      <td>https://waterdata.usgs.gov/monitoring-location...</td>\n",
       "      <td>226643</td>\n",
       "      <td>10190003000027</td>\n",
       "      <td>0E-10</td>\n",
       "      <td>https://labs.waterdata.usgs.gov/api/nldi/linke...</td>\n",
       "    </tr>\n",
       "    <tr>\n",
       "      <th>1</th>\n",
       "      <td>POINT (-103.92028 40.32139)</td>\n",
       "      <td>nwissite</td>\n",
       "      <td>NWIS Sites</td>\n",
       "      <td>USGS-06758500</td>\n",
       "      <td>SOUTH PLATTE RIVER NEAR WELDONA, CO</td>\n",
       "      <td>https://waterdata.usgs.gov/monitoring-location...</td>\n",
       "      <td>227923</td>\n",
       "      <td>10190003000022</td>\n",
       "      <td>97.20807</td>\n",
       "      <td>https://labs.waterdata.usgs.gov/api/nldi/linke...</td>\n",
       "    </tr>\n",
       "    <tr>\n",
       "      <th>2</th>\n",
       "      <td>POINT (-103.80119 40.26840)</td>\n",
       "      <td>nwissite</td>\n",
       "      <td>NWIS Sites</td>\n",
       "      <td>USGS-06759500</td>\n",
       "      <td>SOUTH PLATTE RIVER AT FORT MORGAN, CO</td>\n",
       "      <td>https://waterdata.usgs.gov/monitoring-location...</td>\n",
       "      <td>3561878</td>\n",
       "      <td>10190012002368</td>\n",
       "      <td>94.85288</td>\n",
       "      <td>https://labs.waterdata.usgs.gov/api/nldi/linke...</td>\n",
       "    </tr>\n",
       "    <tr>\n",
       "      <th>3</th>\n",
       "      <td>POINT (-104.24495 40.30581)</td>\n",
       "      <td>nwissite</td>\n",
       "      <td>NWIS Sites</td>\n",
       "      <td>USGS-06756995</td>\n",
       "      <td>SOUTH PLATTE RIVER AT MASTERS, CO.</td>\n",
       "      <td>https://waterdata.usgs.gov/monitoring-location...</td>\n",
       "      <td>226669</td>\n",
       "      <td>10190003001241</td>\n",
       "      <td>97.32596</td>\n",
       "      <td>https://labs.waterdata.usgs.gov/api/nldi/linke...</td>\n",
       "    </tr>\n",
       "    <tr>\n",
       "      <th>4</th>\n",
       "      <td>POINT (-104.17912 40.30387)</td>\n",
       "      <td>nwissite</td>\n",
       "      <td>NWIS Sites</td>\n",
       "      <td>USGS-06757000</td>\n",
       "      <td>SOUTH PLATTE RIVER AT SUBLETTE, CO.</td>\n",
       "      <td>https://waterdata.usgs.gov/monitoring-location...</td>\n",
       "      <td>226665</td>\n",
       "      <td>10190003001241</td>\n",
       "      <td>53.22072</td>\n",
       "      <td>https://labs.waterdata.usgs.gov/api/nldi/linke...</td>\n",
       "    </tr>\n",
       "  </tbody>\n",
       "</table>\n",
       "</div>"
      ],
      "text/plain": [
       "                      geometry    source  sourceName            identifier  \\\n",
       "0  POINT (-104.24467 40.30637)  nwissite  NWIS Sites  USGS-401823104143900   \n",
       "1  POINT (-103.92028 40.32139)  nwissite  NWIS Sites         USGS-06758500   \n",
       "2  POINT (-103.80119 40.26840)  nwissite  NWIS Sites         USGS-06759500   \n",
       "3  POINT (-104.24495 40.30581)  nwissite  NWIS Sites         USGS-06756995   \n",
       "4  POINT (-104.17912 40.30387)  nwissite  NWIS Sites         USGS-06757000   \n",
       "\n",
       "                                    name  \\\n",
       "0      SOUTH PLATTE RIVER AT MASTERS, CO   \n",
       "1    SOUTH PLATTE RIVER NEAR WELDONA, CO   \n",
       "2  SOUTH PLATTE RIVER AT FORT MORGAN, CO   \n",
       "3     SOUTH PLATTE RIVER AT MASTERS, CO.   \n",
       "4    SOUTH PLATTE RIVER AT SUBLETTE, CO.   \n",
       "\n",
       "                                                 uri    comid       reachcode  \\\n",
       "0  https://waterdata.usgs.gov/monitoring-location...   226643  10190003000027   \n",
       "1  https://waterdata.usgs.gov/monitoring-location...   227923  10190003000022   \n",
       "2  https://waterdata.usgs.gov/monitoring-location...  3561878  10190012002368   \n",
       "3  https://waterdata.usgs.gov/monitoring-location...   226669  10190003001241   \n",
       "4  https://waterdata.usgs.gov/monitoring-location...   226665  10190003001241   \n",
       "\n",
       "    measure                                         navigation  \n",
       "0     0E-10  https://labs.waterdata.usgs.gov/api/nldi/linke...  \n",
       "1  97.20807  https://labs.waterdata.usgs.gov/api/nldi/linke...  \n",
       "2  94.85288  https://labs.waterdata.usgs.gov/api/nldi/linke...  \n",
       "3  97.32596  https://labs.waterdata.usgs.gov/api/nldi/linke...  \n",
       "4  53.22072  https://labs.waterdata.usgs.gov/api/nldi/linke...  "
      ]
     },
     "execution_count": 32,
     "metadata": {},
     "output_type": "execute_result"
    }
   ],
   "source": [
    "nldi_st_all.head()"
   ]
  },
  {
   "cell_type": "code",
   "execution_count": 33,
   "metadata": {},
   "outputs": [
    {
     "data": {
      "text/html": [
       "<div>\n",
       "<style scoped>\n",
       "    .dataframe tbody tr th:only-of-type {\n",
       "        vertical-align: middle;\n",
       "    }\n",
       "\n",
       "    .dataframe tbody tr th {\n",
       "        vertical-align: top;\n",
       "    }\n",
       "\n",
       "    .dataframe thead th {\n",
       "        text-align: right;\n",
       "    }\n",
       "</style>\n",
       "<table border=\"1\" class=\"dataframe\">\n",
       "  <thead>\n",
       "    <tr style=\"text-align: right;\">\n",
       "      <th></th>\n",
       "      <th>geometry</th>\n",
       "      <th>source</th>\n",
       "      <th>sourceName</th>\n",
       "      <th>identifier</th>\n",
       "      <th>name</th>\n",
       "      <th>uri</th>\n",
       "      <th>comid</th>\n",
       "      <th>reachcode</th>\n",
       "      <th>measure</th>\n",
       "      <th>navigation</th>\n",
       "    </tr>\n",
       "  </thead>\n",
       "  <tbody>\n",
       "    <tr>\n",
       "      <th>0</th>\n",
       "      <td>POINT (-103.90353 40.31102)</td>\n",
       "      <td>gfv11_pois</td>\n",
       "      <td>USGS Geospatial Fabric V1.1 Points of Interest</td>\n",
       "      <td>24273</td>\n",
       "      <td>South Platte River</td>\n",
       "      <td>https://geoconnex.us/usgs/gfv11_pois/24273</td>\n",
       "      <td>227923</td>\n",
       "      <td>10190003000022</td>\n",
       "      <td>68.92192</td>\n",
       "      <td>https://labs.waterdata.usgs.gov/api/nldi/linke...</td>\n",
       "    </tr>\n",
       "    <tr>\n",
       "      <th>1</th>\n",
       "      <td>POINT (-103.79559 40.26779)</td>\n",
       "      <td>gfv11_pois</td>\n",
       "      <td>USGS Geospatial Fabric V1.1 Points of Interest</td>\n",
       "      <td>24735</td>\n",
       "      <td>South Platte River</td>\n",
       "      <td>https://geoconnex.us/usgs/gfv11_pois/24735</td>\n",
       "      <td>3561878</td>\n",
       "      <td>10190012002368</td>\n",
       "      <td>88.41941</td>\n",
       "      <td>https://labs.waterdata.usgs.gov/api/nldi/linke...</td>\n",
       "    </tr>\n",
       "    <tr>\n",
       "      <th>2</th>\n",
       "      <td>POINT (-104.07625 40.34529)</td>\n",
       "      <td>gfv11_pois</td>\n",
       "      <td>USGS Geospatial Fabric V1.1 Points of Interest</td>\n",
       "      <td>28418</td>\n",
       "      <td>South Platte River</td>\n",
       "      <td>https://geoconnex.us/usgs/gfv11_pois/28418</td>\n",
       "      <td>24847469</td>\n",
       "      <td>10190003002288</td>\n",
       "      <td>0E-10</td>\n",
       "      <td>https://labs.waterdata.usgs.gov/api/nldi/linke...</td>\n",
       "    </tr>\n",
       "    <tr>\n",
       "      <th>3</th>\n",
       "      <td>POINT (-103.86086 40.28574)</td>\n",
       "      <td>gfv11_pois</td>\n",
       "      <td>USGS Geospatial Fabric V1.1 Points of Interest</td>\n",
       "      <td>24274</td>\n",
       "      <td>South Platte River</td>\n",
       "      <td>https://geoconnex.us/usgs/gfv11_pois/24274</td>\n",
       "      <td>227925</td>\n",
       "      <td>10190003000022</td>\n",
       "      <td>0E-10</td>\n",
       "      <td>https://labs.waterdata.usgs.gov/api/nldi/linke...</td>\n",
       "    </tr>\n",
       "  </tbody>\n",
       "</table>\n",
       "</div>"
      ],
      "text/plain": [
       "                      geometry      source  \\\n",
       "0  POINT (-103.90353 40.31102)  gfv11_pois   \n",
       "1  POINT (-103.79559 40.26779)  gfv11_pois   \n",
       "2  POINT (-104.07625 40.34529)  gfv11_pois   \n",
       "3  POINT (-103.86086 40.28574)  gfv11_pois   \n",
       "\n",
       "                                       sourceName identifier  \\\n",
       "0  USGS Geospatial Fabric V1.1 Points of Interest      24273   \n",
       "1  USGS Geospatial Fabric V1.1 Points of Interest      24735   \n",
       "2  USGS Geospatial Fabric V1.1 Points of Interest      28418   \n",
       "3  USGS Geospatial Fabric V1.1 Points of Interest      24274   \n",
       "\n",
       "                 name                                         uri     comid  \\\n",
       "0  South Platte River  https://geoconnex.us/usgs/gfv11_pois/24273    227923   \n",
       "1  South Platte River  https://geoconnex.us/usgs/gfv11_pois/24735   3561878   \n",
       "2  South Platte River  https://geoconnex.us/usgs/gfv11_pois/28418  24847469   \n",
       "3  South Platte River  https://geoconnex.us/usgs/gfv11_pois/24274    227925   \n",
       "\n",
       "        reachcode   measure                                         navigation  \n",
       "0  10190003000022  68.92192  https://labs.waterdata.usgs.gov/api/nldi/linke...  \n",
       "1  10190012002368  88.41941  https://labs.waterdata.usgs.gov/api/nldi/linke...  \n",
       "2  10190003002288     0E-10  https://labs.waterdata.usgs.gov/api/nldi/linke...  \n",
       "3  10190003000022     0E-10  https://labs.waterdata.usgs.gov/api/nldi/linke...  "
      ]
     },
     "execution_count": 33,
     "metadata": {},
     "output_type": "execute_result"
    }
   ],
   "source": [
    "nldi_POI_all.head()"
   ]
  },
  {
   "cell_type": "code",
   "execution_count": 34,
   "metadata": {},
   "outputs": [
    {
     "data": {
      "image/png": "[encoded data removed]",
      "text/plain": [
       "<Figure size 600x400 with 1 Axes>"
      ]
     },
     "metadata": {
      "needs_background": "light"
     },
     "output_type": "display_data"
    }
   ],
   "source": [
    "ax = nldi_flw_main.plot(\n",
    "    lw=3, color=\"r\", zorder=2, label=\"Mainstem\"\n",
    ")\n",
    "nldi_st_all.plot(\n",
    "    ax = ax, label=\"USGS stations\", marker=\"*\", markersize=3, zorder=4, color=\"b\"\n",
    ")\n",
    "nldi_st_all.plot(\n",
    "    ax = ax, label=\"gv11_pois\", marker=\"+\", markersize=24, zorder=3, color=\"black\"\n",
    ")\n",
    "ax.legend(loc=\"best\")\n",
    "ax.set_aspect(\"equal\")\n",
    "ax.figure.set_dpi(100)"
   ]
  },
  {
   "cell_type": "code",
   "execution_count": 35,
   "metadata": {},
   "outputs": [],
   "source": [
    "nhm_seg_id = int(nldi_POI_all['identifier'].values[0])\n"
   ]
  },
  {
   "cell_type": "code",
   "execution_count": 36,
   "metadata": {},
   "outputs": [],
   "source": [
    "nhm_seg_ouflow = data.isel(nsegment=nhm_seg_id)\n",
    "nhm_seg_ouflow_cms = nhm_seg_ouflow.seg_outflow * 0.02381"
   ]
  },
  {
   "cell_type": "code",
   "execution_count": 37,
   "metadata": {},
   "outputs": [
    {
     "data": {
      "image/png": "[encoded data removed]",
      "text/plain": [
       "<Figure size 432x288 with 1 Axes>"
      ]
     },
     "metadata": {
      "needs_background": "light"
     },
     "output_type": "display_data"
    }
   ],
   "source": [
    "ax = nhm_seg_ouflow.seg_outflow.plot()"
   ]
  },
  {
   "cell_type": "code",
   "execution_count": 38,
   "metadata": {},
   "outputs": [
    {
     "data": {
      "text/plain": [
       "'USGS-06758500'"
      ]
     },
     "execution_count": 38,
     "metadata": {},
     "output_type": "execute_result"
    }
   ],
   "source": [
    "gage = nldi_st_all.loc[nldi_st_all['comid'] == nldi_POI_all['comid'].values[0]]\n",
    "gage_id = gage['identifier']\n",
    "gage_id.values[0]"
   ]
  },
  {
   "cell_type": "code",
   "execution_count": 39,
   "metadata": {},
   "outputs": [
    {
     "data": {
      "text/plain": [
       "'06758500'"
      ]
     },
     "execution_count": 39,
     "metadata": {},
     "output_type": "execute_result"
    }
   ],
   "source": [
    "gage_id.values[0][5:]"
   ]
  },
  {
   "cell_type": "markdown",
   "metadata": {},
   "source": [
    "### Experiment with a couple packages for retrieving NWIS data.\n",
    "* hydrodata NWIS package (NWIS)\n",
    "* dataretreival package (nwis)"
   ]
  },
  {
   "cell_type": "code",
   "execution_count": 40,
   "metadata": {},
   "outputs": [],
   "source": [
    "from hydrodata import NWIS\n",
    "site='06758500'\n",
    "qobs = NWIS().get_streamflow(gage_id.values[0][5:], (\"1980-01-01\", \"2007-12-31\"))"
   ]
  },
  {
   "cell_type": "code",
   "execution_count": 41,
   "metadata": {},
   "outputs": [
    {
     "data": {
      "text/plain": [
       "pandas.core.series.Series"
      ]
     },
     "execution_count": 41,
     "metadata": {},
     "output_type": "execute_result"
    }
   ],
   "source": [
    "type(qobs['USGS-06758500'])"
   ]
  },
  {
   "cell_type": "markdown",
   "metadata": {},
   "source": [
    "# Comparison of observed vs simulated"
   ]
  },
  {
   "cell_type": "code",
   "execution_count": 42,
   "metadata": {},
   "outputs": [
    {
     "data": {
      "text/plain": [
       "<matplotlib.legend.Legend at 0x28f2dbc14c0>"
      ]
     },
     "execution_count": 42,
     "metadata": {},
     "output_type": "execute_result"
    },
    {
     "data": {
      "image/png": "[encoded data removed]",
      "text/plain": [
       "<Figure size 864x288 with 1 Axes>"
      ]
     },
     "metadata": {
      "needs_background": "light"
     },
     "output_type": "display_data"
    }
   ],
   "source": [
    "fig, axs = plt.subplots(figsize=(12, 4))\n",
    "qobs['USGS-06758500'].plot(ax=axs, label=\"observed\")\n",
    "nhm_seg_ouflow_cms.plot(ax=axs, label=\"simulated\")\n",
    "axs.legend()"
   ]
  },
  {
   "cell_type": "code",
   "execution_count": null,
   "metadata": {},
   "outputs": [],
   "source": []
  }
 ],
 "metadata": {
  "kernelspec": {
   "display_name": "Python 3",
   "language": "python",
   "name": "python3"
  },
  "language_info": {
   "codemirror_mode": {
    "name": "ipython",
    "version": 3
   },
   "file_extension": ".py",
   "mimetype": "text/x-python",
   "name": "python",
   "nbconvert_exporter": "python",
   "pygments_lexer": "ipython3",
   "version": "3.8.6"
  }
 },
 "nbformat": 4,
 "nbformat_minor": 5
}
