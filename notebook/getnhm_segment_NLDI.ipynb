{
 "cells": [
  {
   "cell_type": "markdown",
   "metadata": {},
   "source": [
    "# Initial demo of model output via Thredds and NLDI\n",
    "* demo uses siphon to search existing thredds catalog of onhm ouput (note this is still very experimental).  \n",
    "* seg_outflow is assigned to a variable\n",
    "* Search NLDI for NHM POI.  POIs provide the cross-walk between the specific model fabric, and the common NHD+ fabric.\n",
    "* NLDI is searched for all gages and streamsegments upstream of gage 06759500 on the S. Platte River at Fort Morgan.\n",
    "* Example comparison is given for observed and simulated streamflow \n"
   ]
  },
  {
   "cell_type": "code",
   "execution_count": 1,
   "metadata": {},
   "outputs": [],
   "source": [
    "import py3dep\n",
    "import xarray as xr\n",
    "from matplotlib import pyplot as plt\n",
    "import numpy as np\n",
    "import pandas as pd\n",
    "import geopandas as gpd\n",
    "from pathlib import Path\n",
    "import dataretrieval.nwis as nwis\n",
    "from siphon.catalog import TDSCatalog"
   ]
  },
  {
   "cell_type": "code",
   "execution_count": 2,
   "metadata": {},
   "outputs": [],
   "source": [
    "# Current test location of NHM ouput\n",
    "catalog = TDSCatalog(\"http://gdp-netcdfdev.cr.usgs.gov:8080/thredds/catalog/ONHM_OUTPUT/files/catalog.xml\")"
   ]
  },
  {
   "cell_type": "code",
   "execution_count": 3,
   "metadata": {},
   "outputs": [
    {
     "name": "stdout",
     "output_type": "stream",
     "text": [
      "\n",
      "Catalog information\n",
      "-------------------\n",
      "\n",
      "Base THREDDS URL: http://gdp-netcdfdev.cr.usgs.gov:8080\n",
      "Catalog name: No name found\n",
      "Catalog URL: http://gdp-netcdfdev.cr.usgs.gov:8080/thredds/catalog/ONHM_OUTPUT/files/catalog.xml\n",
      "Metadata: {'inherited': True, 'serviceName': 'all'}\n",
      "\n"
     ]
    }
   ],
   "source": [
    "info = \"\"\"\n",
    "Catalog information\n",
    "-------------------\n",
    "\n",
    "Base THREDDS URL: {}\n",
    "Catalog name: {}\n",
    "Catalog URL: {}\n",
    "Metadata: {}\n",
    "\"\"\".format(\n",
    "    catalog.base_tds_url, catalog.catalog_name, catalog.catalog_url, catalog.metadata\n",
    ")\n",
    "\n",
    "print(info)"
   ]
  },
  {
   "cell_type": "code",
   "execution_count": 4,
   "metadata": {},
   "outputs": [
    {
     "name": "stdout",
     "output_type": "stream",
     "text": [
      "all\n"
     ]
    }
   ],
   "source": [
    "for service in catalog.services:\n",
    "    print(service.name)"
   ]
  },
  {
   "cell_type": "code",
   "execution_count": 5,
   "metadata": {},
   "outputs": [
    {
     "name": "stdout",
     "output_type": "stream",
     "text": [
      "unused_potet.nc\n",
      "transp_on.nc\n",
      "tminf.nc\n",
      "tmaxf.nc\n",
      "tavgf.nc\n",
      "swrad.nc\n",
      "ssres_flow.nc\n",
      "sroff.nc\n",
      "soil_to_ssr.nc\n",
      "soil_to_gw.nc\n",
      "soil_rechr.nc\n",
      "soil_moist_tot.nc\n",
      "soil_moist.nc\n",
      "snowmelt.nc\n",
      "snowcov_area.nc\n",
      "snow_free.nc\n",
      "snow_evap.nc\n",
      "slow_stor.nc\n",
      "slow_flow.nc\n",
      "seg_width.nc\n",
      "seg_tave_water.nc\n",
      "seg_tave_upstream.nc\n",
      "seg_tave_sroff.nc\n",
      "seg_tave_lat.nc\n",
      "seg_tave_gw.nc\n",
      "seg_tave_air.nc\n",
      "seg_shade.nc\n",
      "seg_outflow.nc\n",
      "recharge.nc\n",
      "prmx.nc\n",
      "pref_flow_stor.nc\n",
      "pref_flow.nc\n",
      "potet.nc\n",
      "pkwater_equiv.nc\n",
      "pk_temp.nc\n",
      "pk_precip.nc\n",
      "pk_ice.nc\n",
      "pk_depth.nc\n",
      "perv_actet.nc\n",
      "newsnow.nc\n",
      "net_snow.nc\n",
      "net_rain.nc\n",
      "net_ppt.nc\n",
      "intcp_on.nc\n",
      "infil.nc\n",
      "hru_streamflow_out.nc\n",
      "hru_sroffp.nc\n",
      "hru_sroffi.nc\n",
      "hru_snow.nc\n",
      "hru_rain.nc\n",
      "hru_ppt.nc\n",
      "hru_outflow.nc\n",
      "hru_lateral_flow.nc\n",
      "hru_intcpstor.nc\n",
      "hru_intcpevap.nc\n",
      "hru_impervstor.nc\n",
      "hru_impervevap.nc\n",
      "hru_actet.nc\n",
      "hortonian_flow.nc\n",
      "gwres_stor.nc\n",
      "gwres_in.nc\n",
      "gwres_flow.nc\n",
      "freeh2o.nc\n",
      "dunnian_flow.nc\n",
      "dprst_vol_open_frac.nc\n",
      "dprst_vol_open.nc\n",
      "dprst_stor_hru.nc\n",
      "dprst_sroff_hru.nc\n",
      "dprst_seep_hru.nc\n",
      "dprst_insroff_hru.nc\n",
      "dprst_evap_hru.nc\n",
      "dprst_area_open.nc\n",
      "contrib_fraction.nc\n",
      "cap_waterin.nc\n",
      "albedo.nc\n"
     ]
    }
   ],
   "source": [
    "print(\"\\n\".join(catalog.datasets.keys()))"
   ]
  },
  {
   "cell_type": "code",
   "execution_count": 7,
   "metadata": {},
   "outputs": [
    {
     "name": "stdout",
     "output_type": "stream",
     "text": [
      "seg_outflow.nc ONHM_OUTPUT/files/seg_outflow.nc {'OPENDAP': 'http://gdp-netcdfdev.cr.usgs.gov:8080/thredds/dodsC/ONHM_OUTPUT/files/seg_outflow.nc', 'UDDC': 'http://gdp-netcdfdev.cr.usgs.gov:8080/thredds/uddc/ONHM_OUTPUT/files/seg_outflow.nc', 'ISO': 'http://gdp-netcdfdev.cr.usgs.gov:8080/thredds/iso/ONHM_OUTPUT/files/seg_outflow.nc', 'NCML': 'http://gdp-netcdfdev.cr.usgs.gov:8080/thredds/ncml/ONHM_OUTPUT/files/seg_outflow.nc', 'NetcdfSubset': 'http://gdp-netcdfdev.cr.usgs.gov:8080/thredds/ncss/ONHM_OUTPUT/files/seg_outflow.nc'} <class 'siphon.catalog.Dataset'>\n"
     ]
    }
   ],
   "source": [
    "dataset = 'seg_outflow.nc'\n",
    "ds = catalog.datasets[dataset]\n",
    "print(ds.name, ds.url_path, ds.access_urls, type(ds))"
   ]
  },
  {
   "cell_type": "code",
   "execution_count": 8,
   "metadata": {},
   "outputs": [],
   "source": [
    "data = ds.remote_access(service='OPENDAP', use_xarray=True)"
   ]
  },
  {
   "cell_type": "code",
   "execution_count": 9,
   "metadata": {},
   "outputs": [
    {
     "data": {
      "text/plain": [
       "{'long_name': 'Streamflow leaving a segment', 'units': 'cfs'}"
      ]
     },
     "execution_count": 9,
     "metadata": {},
     "output_type": "execute_result"
    }
   ],
   "source": [
    "data.seg_outflow.attrs"
   ]
  },
  {
   "cell_type": "markdown",
   "metadata": {},
   "source": [
    "# Connect NHM Model ouput on THREDDS with NLDI.\n",
    "* use GFv11 POI interest, which contains NHD comid for each stream segment.\n",
    "* GFv11 POIs made available to NLDI through geoconnex\n",
    "\n",
    "## Use hyriver python tools which have a nice wrapper around NLDI and NWIS\n",
    "* https://hyriver.readthedocs.io/en/latest/"
   ]
  },
  {
   "cell_type": "code",
   "execution_count": 10,
   "metadata": {},
   "outputs": [],
   "source": [
    "import hydrodata as hd\n",
    "from hydrodata import NWIS, plot\n",
    "from pynhd import NLDI, NHDPlusHR, WaterData"
   ]
  },
  {
   "cell_type": "markdown",
   "metadata": {},
   "source": [
    "### Search NLDI by navigating above USGS-06759500 gage on S. Platt River above Fort Morgan, CO\n",
    "* grab all comids and gages on main flowline.  \n",
    "* Use station comids to filter NHM POIs"
   ]
  },
  {
   "cell_type": "code",
   "execution_count": 11,
   "metadata": {},
   "outputs": [],
   "source": [
    "gage_id = '06759500'\n",
    "nldi_flw_main = NLDI().navigate_byid(fsource=\"nwissite\",\n",
    "                             fid=f\"USGS-{gage_id}\",\n",
    "                             navigation=\"upstreamMain\",\n",
    "                             source=\"flowlines\",\n",
    "                             distance=50)\n",
    "\n",
    "nldi_st_all = NLDI().navigate_byid(fsource=\"nwissite\",\n",
    "                             fid=f\"USGS-{gage_id}\",\n",
    "                             navigation=\"upstreamMain\",\n",
    "                             source=\"nwissite\",\n",
    "                             distance=50)\n",
    "\n",
    "nldi_POI_all = NLDI().navigate_byid(fsource=\"nwissite\",\n",
    "                             fid=f\"USGS-{gage_id}\",\n",
    "                             navigation=\"upstreamMain\",\n",
    "                             source=\"gfv11_pois\",\n",
    "                             distance=50)"
   ]
  },
  {
   "cell_type": "code",
   "execution_count": 12,
   "metadata": {},
   "outputs": [
    {
     "data": {
      "text/html": [
       "<div>\n",
       "<style scoped>\n",
       "    .dataframe tbody tr th:only-of-type {\n",
       "        vertical-align: middle;\n",
       "    }\n",
       "\n",
       "    .dataframe tbody tr th {\n",
       "        vertical-align: top;\n",
       "    }\n",
       "\n",
       "    .dataframe thead th {\n",
       "        text-align: right;\n",
       "    }\n",
       "</style>\n",
       "<table border=\"1\" class=\"dataframe\">\n",
       "  <thead>\n",
       "    <tr style=\"text-align: right;\">\n",
       "      <th></th>\n",
       "      <th>geometry</th>\n",
       "      <th>nhdplus_comid</th>\n",
       "    </tr>\n",
       "  </thead>\n",
       "  <tbody>\n",
       "    <tr>\n",
       "      <th>0</th>\n",
       "      <td>LINESTRING (-103.80253 40.26874, -103.80151 40...</td>\n",
       "      <td>3561878</td>\n",
       "    </tr>\n",
       "    <tr>\n",
       "      <th>1</th>\n",
       "      <td>LINESTRING (-103.82914 40.27436, -103.82747 40...</td>\n",
       "      <td>3561874</td>\n",
       "    </tr>\n",
       "    <tr>\n",
       "      <th>2</th>\n",
       "      <td>LINESTRING (-103.83380 40.27505, -103.83288 40...</td>\n",
       "      <td>3561872</td>\n",
       "    </tr>\n",
       "    <tr>\n",
       "      <th>3</th>\n",
       "      <td>LINESTRING (-103.84725 40.28259, -103.84632 40...</td>\n",
       "      <td>3561928</td>\n",
       "    </tr>\n",
       "    <tr>\n",
       "      <th>4</th>\n",
       "      <td>LINESTRING (-103.84846 40.28266, -103.84830 40...</td>\n",
       "      <td>3561850</td>\n",
       "    </tr>\n",
       "  </tbody>\n",
       "</table>\n",
       "</div>"
      ],
      "text/plain": [
       "                                            geometry nhdplus_comid\n",
       "0  LINESTRING (-103.80253 40.26874, -103.80151 40...       3561878\n",
       "1  LINESTRING (-103.82914 40.27436, -103.82747 40...       3561874\n",
       "2  LINESTRING (-103.83380 40.27505, -103.83288 40...       3561872\n",
       "3  LINESTRING (-103.84725 40.28259, -103.84632 40...       3561928\n",
       "4  LINESTRING (-103.84846 40.28266, -103.84830 40...       3561850"
      ]
     },
     "execution_count": 12,
     "metadata": {},
     "output_type": "execute_result"
    }
   ],
   "source": [
    "nldi_flw_main.head()"
   ]
  },
  {
   "cell_type": "code",
   "execution_count": 13,
   "metadata": {},
   "outputs": [
    {
     "data": {
      "text/html": [
       "<div>\n",
       "<style scoped>\n",
       "    .dataframe tbody tr th:only-of-type {\n",
       "        vertical-align: middle;\n",
       "    }\n",
       "\n",
       "    .dataframe tbody tr th {\n",
       "        vertical-align: top;\n",
       "    }\n",
       "\n",
       "    .dataframe thead th {\n",
       "        text-align: right;\n",
       "    }\n",
       "</style>\n",
       "<table border=\"1\" class=\"dataframe\">\n",
       "  <thead>\n",
       "    <tr style=\"text-align: right;\">\n",
       "      <th></th>\n",
       "      <th>geometry</th>\n",
       "      <th>source</th>\n",
       "      <th>sourceName</th>\n",
       "      <th>identifier</th>\n",
       "      <th>name</th>\n",
       "      <th>uri</th>\n",
       "      <th>comid</th>\n",
       "      <th>reachcode</th>\n",
       "      <th>measure</th>\n",
       "      <th>navigation</th>\n",
       "    </tr>\n",
       "  </thead>\n",
       "  <tbody>\n",
       "    <tr>\n",
       "      <th>0</th>\n",
       "      <td>POINT (-104.24467 40.30637)</td>\n",
       "      <td>nwissite</td>\n",
       "      <td>NWIS Sites</td>\n",
       "      <td>USGS-401823104143900</td>\n",
       "      <td>SOUTH PLATTE RIVER AT MASTERS, CO</td>\n",
       "      <td>https://waterdata.usgs.gov/monitoring-location...</td>\n",
       "      <td>226643</td>\n",
       "      <td>10190003000027</td>\n",
       "      <td>0E-10</td>\n",
       "      <td>https://labs.waterdata.usgs.gov/api/nldi/linke...</td>\n",
       "    </tr>\n",
       "    <tr>\n",
       "      <th>1</th>\n",
       "      <td>POINT (-103.92028 40.32139)</td>\n",
       "      <td>nwissite</td>\n",
       "      <td>NWIS Sites</td>\n",
       "      <td>USGS-06758500</td>\n",
       "      <td>SOUTH PLATTE RIVER NEAR WELDONA, CO</td>\n",
       "      <td>https://waterdata.usgs.gov/monitoring-location...</td>\n",
       "      <td>227923</td>\n",
       "      <td>10190003000022</td>\n",
       "      <td>97.20807</td>\n",
       "      <td>https://labs.waterdata.usgs.gov/api/nldi/linke...</td>\n",
       "    </tr>\n",
       "    <tr>\n",
       "      <th>2</th>\n",
       "      <td>POINT (-103.80119 40.26840)</td>\n",
       "      <td>nwissite</td>\n",
       "      <td>NWIS Sites</td>\n",
       "      <td>USGS-06759500</td>\n",
       "      <td>SOUTH PLATTE RIVER AT FORT MORGAN, CO</td>\n",
       "      <td>https://waterdata.usgs.gov/monitoring-location...</td>\n",
       "      <td>3561878</td>\n",
       "      <td>10190012002368</td>\n",
       "      <td>94.85288</td>\n",
       "      <td>https://labs.waterdata.usgs.gov/api/nldi/linke...</td>\n",
       "    </tr>\n",
       "    <tr>\n",
       "      <th>3</th>\n",
       "      <td>POINT (-104.24495 40.30581)</td>\n",
       "      <td>nwissite</td>\n",
       "      <td>NWIS Sites</td>\n",
       "      <td>USGS-06756995</td>\n",
       "      <td>SOUTH PLATTE RIVER AT MASTERS, CO.</td>\n",
       "      <td>https://waterdata.usgs.gov/monitoring-location...</td>\n",
       "      <td>226669</td>\n",
       "      <td>10190003001241</td>\n",
       "      <td>97.32596</td>\n",
       "      <td>https://labs.waterdata.usgs.gov/api/nldi/linke...</td>\n",
       "    </tr>\n",
       "    <tr>\n",
       "      <th>4</th>\n",
       "      <td>POINT (-104.17912 40.30387)</td>\n",
       "      <td>nwissite</td>\n",
       "      <td>NWIS Sites</td>\n",
       "      <td>USGS-06757000</td>\n",
       "      <td>SOUTH PLATTE RIVER AT SUBLETTE, CO.</td>\n",
       "      <td>https://waterdata.usgs.gov/monitoring-location...</td>\n",
       "      <td>226665</td>\n",
       "      <td>10190003001241</td>\n",
       "      <td>53.22072</td>\n",
       "      <td>https://labs.waterdata.usgs.gov/api/nldi/linke...</td>\n",
       "    </tr>\n",
       "  </tbody>\n",
       "</table>\n",
       "</div>"
      ],
      "text/plain": [
       "                      geometry    source  sourceName            identifier  \\\n",
       "0  POINT (-104.24467 40.30637)  nwissite  NWIS Sites  USGS-401823104143900   \n",
       "1  POINT (-103.92028 40.32139)  nwissite  NWIS Sites         USGS-06758500   \n",
       "2  POINT (-103.80119 40.26840)  nwissite  NWIS Sites         USGS-06759500   \n",
       "3  POINT (-104.24495 40.30581)  nwissite  NWIS Sites         USGS-06756995   \n",
       "4  POINT (-104.17912 40.30387)  nwissite  NWIS Sites         USGS-06757000   \n",
       "\n",
       "                                    name  \\\n",
       "0      SOUTH PLATTE RIVER AT MASTERS, CO   \n",
       "1    SOUTH PLATTE RIVER NEAR WELDONA, CO   \n",
       "2  SOUTH PLATTE RIVER AT FORT MORGAN, CO   \n",
       "3     SOUTH PLATTE RIVER AT MASTERS, CO.   \n",
       "4    SOUTH PLATTE RIVER AT SUBLETTE, CO.   \n",
       "\n",
       "                                                 uri    comid       reachcode  \\\n",
       "0  https://waterdata.usgs.gov/monitoring-location...   226643  10190003000027   \n",
       "1  https://waterdata.usgs.gov/monitoring-location...   227923  10190003000022   \n",
       "2  https://waterdata.usgs.gov/monitoring-location...  3561878  10190012002368   \n",
       "3  https://waterdata.usgs.gov/monitoring-location...   226669  10190003001241   \n",
       "4  https://waterdata.usgs.gov/monitoring-location...   226665  10190003001241   \n",
       "\n",
       "    measure                                         navigation  \n",
       "0     0E-10  https://labs.waterdata.usgs.gov/api/nldi/linke...  \n",
       "1  97.20807  https://labs.waterdata.usgs.gov/api/nldi/linke...  \n",
       "2  94.85288  https://labs.waterdata.usgs.gov/api/nldi/linke...  \n",
       "3  97.32596  https://labs.waterdata.usgs.gov/api/nldi/linke...  \n",
       "4  53.22072  https://labs.waterdata.usgs.gov/api/nldi/linke...  "
      ]
     },
     "execution_count": 13,
     "metadata": {},
     "output_type": "execute_result"
    }
   ],
   "source": [
    "nldi_st_all.head()"
   ]
  },
  {
   "cell_type": "code",
   "execution_count": 14,
   "metadata": {},
   "outputs": [
    {
     "data": {
      "text/html": [
       "<div>\n",
       "<style scoped>\n",
       "    .dataframe tbody tr th:only-of-type {\n",
       "        vertical-align: middle;\n",
       "    }\n",
       "\n",
       "    .dataframe tbody tr th {\n",
       "        vertical-align: top;\n",
       "    }\n",
       "\n",
       "    .dataframe thead th {\n",
       "        text-align: right;\n",
       "    }\n",
       "</style>\n",
       "<table border=\"1\" class=\"dataframe\">\n",
       "  <thead>\n",
       "    <tr style=\"text-align: right;\">\n",
       "      <th></th>\n",
       "      <th>geometry</th>\n",
       "      <th>source</th>\n",
       "      <th>sourceName</th>\n",
       "      <th>identifier</th>\n",
       "      <th>name</th>\n",
       "      <th>uri</th>\n",
       "      <th>comid</th>\n",
       "      <th>reachcode</th>\n",
       "      <th>measure</th>\n",
       "      <th>navigation</th>\n",
       "    </tr>\n",
       "  </thead>\n",
       "  <tbody>\n",
       "    <tr>\n",
       "      <th>0</th>\n",
       "      <td>POINT (-103.90353 40.31102)</td>\n",
       "      <td>gfv11_pois</td>\n",
       "      <td>USGS Geospatial Fabric V1.1 Points of Interest</td>\n",
       "      <td>24273</td>\n",
       "      <td>South Platte River</td>\n",
       "      <td>https://geoconnex.us/usgs/gfv11_pois/24273</td>\n",
       "      <td>227923</td>\n",
       "      <td>10190003000022</td>\n",
       "      <td>68.92192</td>\n",
       "      <td>https://labs.waterdata.usgs.gov/api/nldi/linke...</td>\n",
       "    </tr>\n",
       "    <tr>\n",
       "      <th>1</th>\n",
       "      <td>POINT (-103.79559 40.26779)</td>\n",
       "      <td>gfv11_pois</td>\n",
       "      <td>USGS Geospatial Fabric V1.1 Points of Interest</td>\n",
       "      <td>24735</td>\n",
       "      <td>South Platte River</td>\n",
       "      <td>https://geoconnex.us/usgs/gfv11_pois/24735</td>\n",
       "      <td>3561878</td>\n",
       "      <td>10190012002368</td>\n",
       "      <td>88.41941</td>\n",
       "      <td>https://labs.waterdata.usgs.gov/api/nldi/linke...</td>\n",
       "    </tr>\n",
       "    <tr>\n",
       "      <th>2</th>\n",
       "      <td>POINT (-104.07625 40.34529)</td>\n",
       "      <td>gfv11_pois</td>\n",
       "      <td>USGS Geospatial Fabric V1.1 Points of Interest</td>\n",
       "      <td>28418</td>\n",
       "      <td>South Platte River</td>\n",
       "      <td>https://geoconnex.us/usgs/gfv11_pois/28418</td>\n",
       "      <td>24847469</td>\n",
       "      <td>10190003002288</td>\n",
       "      <td>0E-10</td>\n",
       "      <td>https://labs.waterdata.usgs.gov/api/nldi/linke...</td>\n",
       "    </tr>\n",
       "    <tr>\n",
       "      <th>3</th>\n",
       "      <td>POINT (-103.86086 40.28574)</td>\n",
       "      <td>gfv11_pois</td>\n",
       "      <td>USGS Geospatial Fabric V1.1 Points of Interest</td>\n",
       "      <td>24274</td>\n",
       "      <td>South Platte River</td>\n",
       "      <td>https://geoconnex.us/usgs/gfv11_pois/24274</td>\n",
       "      <td>227925</td>\n",
       "      <td>10190003000022</td>\n",
       "      <td>0E-10</td>\n",
       "      <td>https://labs.waterdata.usgs.gov/api/nldi/linke...</td>\n",
       "    </tr>\n",
       "  </tbody>\n",
       "</table>\n",
       "</div>"
      ],
      "text/plain": [
       "                      geometry      source  \\\n",
       "0  POINT (-103.90353 40.31102)  gfv11_pois   \n",
       "1  POINT (-103.79559 40.26779)  gfv11_pois   \n",
       "2  POINT (-104.07625 40.34529)  gfv11_pois   \n",
       "3  POINT (-103.86086 40.28574)  gfv11_pois   \n",
       "\n",
       "                                       sourceName identifier  \\\n",
       "0  USGS Geospatial Fabric V1.1 Points of Interest      24273   \n",
       "1  USGS Geospatial Fabric V1.1 Points of Interest      24735   \n",
       "2  USGS Geospatial Fabric V1.1 Points of Interest      28418   \n",
       "3  USGS Geospatial Fabric V1.1 Points of Interest      24274   \n",
       "\n",
       "                 name                                         uri     comid  \\\n",
       "0  South Platte River  https://geoconnex.us/usgs/gfv11_pois/24273    227923   \n",
       "1  South Platte River  https://geoconnex.us/usgs/gfv11_pois/24735   3561878   \n",
       "2  South Platte River  https://geoconnex.us/usgs/gfv11_pois/28418  24847469   \n",
       "3  South Platte River  https://geoconnex.us/usgs/gfv11_pois/24274    227925   \n",
       "\n",
       "        reachcode   measure                                         navigation  \n",
       "0  10190003000022  68.92192  https://labs.waterdata.usgs.gov/api/nldi/linke...  \n",
       "1  10190012002368  88.41941  https://labs.waterdata.usgs.gov/api/nldi/linke...  \n",
       "2  10190003002288     0E-10  https://labs.waterdata.usgs.gov/api/nldi/linke...  \n",
       "3  10190003000022     0E-10  https://labs.waterdata.usgs.gov/api/nldi/linke...  "
      ]
     },
     "execution_count": 14,
     "metadata": {},
     "output_type": "execute_result"
    }
   ],
   "source": [
    "nldi_POI_all.head()"
   ]
  },
  {
   "cell_type": "code",
   "execution_count": 15,
   "metadata": {},
   "outputs": [
    {
     "data": {
      "image/png": "[encoded data removed]",
      "text/plain": [
       "<Figure size 600x400 with 1 Axes>"
      ]
     },
     "metadata": {
      "needs_background": "light"
     },
     "output_type": "display_data"
    }
   ],
   "source": [
    "ax = nldi_flw_main.plot(\n",
    "    lw=3, color=\"r\", zorder=2, label=\"Mainstem\"\n",
    ")\n",
    "nldi_st_all.plot(\n",
    "    ax = ax, label=\"USGS stations\", marker=\"*\", markersize=3, zorder=4, color=\"b\"\n",
    ")\n",
    "nldi_st_all.plot(\n",
    "    ax = ax, label=\"gv11_pois\", marker=\"*\", markersize=14, zorder=5, color=\"black\"\n",
    ")\n",
    "ax.legend(loc=\"best\")\n",
    "ax.set_aspect(\"equal\")\n",
    "ax.figure.set_dpi(100)"
   ]
  },
  {
   "cell_type": "code",
   "execution_count": 16,
   "metadata": {},
   "outputs": [],
   "source": [
    "nhm_seg_id = int(nldi_POI_all['identifier'].values[0])\n"
   ]
  },
  {
   "cell_type": "code",
   "execution_count": 17,
   "metadata": {},
   "outputs": [],
   "source": [
    "nhm_seg_ouflow = data.isel(nsegment=nhm_seg_id)\n",
    "nhm_seg_ouflow_cms = nhm_seg_ouflow.seg_outflow * 0.02381"
   ]
  },
  {
   "cell_type": "code",
   "execution_count": 18,
   "metadata": {},
   "outputs": [
    {
     "data": {
      "image/png": "[encoded data removed]",
      "text/plain": [
       "<Figure size 432x288 with 1 Axes>"
      ]
     },
     "metadata": {
      "needs_background": "light"
     },
     "output_type": "display_data"
    }
   ],
   "source": [
    "ax = nhm_seg_ouflow.seg_outflow.plot()"
   ]
  },
  {
   "cell_type": "markdown",
   "metadata": {},
   "source": [
    "### Experiment with a couple packages for retrieving NWIS data.\n",
    "* hydrodata NWIS package (NWIS)\n",
    "* dataretreival package (nwis)"
   ]
  },
  {
   "cell_type": "code",
   "execution_count": 21,
   "metadata": {},
   "outputs": [],
   "source": [
    "from hydrodata import NWIS\n",
    "site='06758500'\n",
    "qobs = NWIS().get_streamflow(site, (\"1980-01-01\", \"2007-12-31\"))"
   ]
  },
  {
   "cell_type": "code",
   "execution_count": 22,
   "metadata": {},
   "outputs": [
    {
     "data": {
      "text/plain": [
       "pandas.core.series.Series"
      ]
     },
     "execution_count": 22,
     "metadata": {},
     "output_type": "execute_result"
    }
   ],
   "source": [
    "type(qobs['USGS-06758500'])"
   ]
  },
  {
   "cell_type": "markdown",
   "metadata": {},
   "source": [
    "# Comparison of observed vs simulated"
   ]
  },
  {
   "cell_type": "code",
   "execution_count": 23,
   "metadata": {},
   "outputs": [
    {
     "data": {
      "text/plain": [
       "<matplotlib.legend.Legend at 0x1f643d48370>"
      ]
     },
     "execution_count": 23,
     "metadata": {},
     "output_type": "execute_result"
    },
    {
     "data": {
      "image/png": "[encoded data removed]",
      "text/plain": [
       "<Figure size 864x288 with 1 Axes>"
      ]
     },
     "metadata": {
      "needs_background": "light"
     },
     "output_type": "display_data"
    }
   ],
   "source": [
    "fig, axs = plt.subplots(figsize=(12, 4))\n",
    "qobs['USGS-06758500'].plot(ax=axs, label=\"observed\")\n",
    "nhm_seg_ouflow_cms.plot(ax=axs, label=\"simulated\")\n",
    "axs.legend()"
   ]
  },
  {
   "cell_type": "code",
   "execution_count": null,
   "metadata": {},
   "outputs": [],
   "source": []
  }
 ],
 "metadata": {
  "kernelspec": {
   "display_name": "Python 3",
   "language": "python",
   "name": "python3"
  },
  "language_info": {
   "codemirror_mode": {
    "name": "ipython",
    "version": 3
   },
   "file_extension": ".py",
   "mimetype": "text/x-python",
   "name": "python",
   "nbconvert_exporter": "python",
   "pygments_lexer": "ipython3",
   "version": "3.8.6"
  }
 },
 "nbformat": 4,
 "nbformat_minor": 5
}
