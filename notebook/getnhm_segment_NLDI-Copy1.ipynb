{
 "cells": [
  {
   "cell_type": "markdown",
   "metadata": {},
   "source": [
    "# Proof-of-concept demo: CONUS scale hydrologic model results; discover and retrieve using NLDI\n",
    "* demo uses siphon to search existing thredds catalog of onhm ouput (note this is still very experimental).  \n",
    "* seg_outflow is assigned to a variable\n",
    "* Search NLDI for NHM POI.  POIs provide the cross-walk between the specific model fabric, and the common NHD+ fabric.\n",
    "* NLDI is searched for all gages and streamsegments upstream of gage 09112500  EAST RIVER AT ALMONT, CO.\n",
    "* Example comparison is given for observed and simulated streamflow \n"
   ]
  },
  {
   "cell_type": "code",
   "execution_count": 1,
   "metadata": {},
   "outputs": [],
   "source": [
    "import py3dep\n",
    "import xarray as xr\n",
    "from matplotlib import pyplot as plt\n",
    "import numpy as np\n",
    "import pandas as pd\n",
    "import geopandas as gpd\n",
    "from pathlib import Path\n",
    "import dataretrieval.nwis as nwis\n",
    "from siphon.catalog import TDSCatalog"
   ]
  },
  {
   "cell_type": "code",
   "execution_count": 2,
   "metadata": {},
   "outputs": [],
   "source": [
    "# Current test location of NHM ouput\n",
    "# catalog = TDSCatalog(\"http://gdp-netcdfdev.cr.usgs.gov:8080/thredds/catalog/ONHM_OUTPUT/files/catalog.xml\")\n",
    "catalog = TDSCatalog(\"https://cida.usgs.gov/thredds/catalog/demo/thredds/nhm/catalog.xml\")"
   ]
  },
  {
   "cell_type": "code",
   "execution_count": 3,
   "metadata": {},
   "outputs": [
    {
     "name": "stdout",
     "output_type": "stream",
     "text": [
      "seg_outflow.nc\n",
      "nhm1_seg.ncml\n"
     ]
    }
   ],
   "source": [
    "print(\"\\n\".join(catalog.datasets.keys()))"
   ]
  },
  {
   "cell_type": "code",
   "execution_count": 4,
   "metadata": {},
   "outputs": [
    {
     "name": "stdout",
     "output_type": "stream",
     "text": [
      "seg_outflow.nc demo/thredds/nhm/seg_outflow.nc {'OPENDAP': 'https://cida.usgs.gov/thredds/dodsC/demo/thredds/nhm/seg_outflow.nc', 'NetcdfSubset': 'https://cida.usgs.gov/thredds/ncss/demo/thredds/nhm/seg_outflow.nc', 'HTTPServer': 'https://cida.usgs.gov/thredds/fileServer/demo/thredds/nhm/seg_outflow.nc'} <class 'siphon.catalog.Dataset'>\n"
     ]
    }
   ],
   "source": [
    "dataset = 'seg_outflow.nc'\n",
    "ds = catalog.datasets[dataset]\n",
    "print(ds.name, ds.url_path, ds.access_urls, type(ds))"
   ]
  },
  {
   "cell_type": "code",
   "execution_count": 5,
   "metadata": {},
   "outputs": [],
   "source": [
    "data = ds.remote_access(service='OPENDAP', use_xarray=True)"
   ]
  },
  {
   "cell_type": "code",
   "execution_count": 6,
   "metadata": {},
   "outputs": [
    {
     "data": {
      "text/plain": [
       "{'long_name': 'Streamflow leaving a segment',\n",
       " 'units': 'cfs',\n",
       " '_ChunkSizes': array([ 46, 178])}"
      ]
     },
     "execution_count": 6,
     "metadata": {},
     "output_type": "execute_result"
    }
   ],
   "source": [
    "data.seg_outflow.attrs"
   ]
  },
  {
   "cell_type": "code",
   "execution_count": 7,
   "metadata": {},
   "outputs": [
    {
     "data": {
      "text/html": [
       "<div><svg style=\"position: absolute; width: 0; height: 0; overflow: hidden\">\n",
       "<defs>\n",
       "<symbol id=\"icon-database\" viewBox=\"0 0 32 32\">\n",
       "<path d=\"M16 0c-8.837 0-16 2.239-16 5v4c0 2.761 7.163 5 16 5s16-2.239 16-5v-4c0-2.761-7.163-5-16-5z\"></path>\n",
       "<path d=\"M16 17c-8.837 0-16-2.239-16-5v6c0 2.761 7.163 5 16 5s16-2.239 16-5v-6c0 2.761-7.163 5-16 5z\"></path>\n",
       "<path d=\"M16 26c-8.837 0-16-2.239-16-5v6c0 2.761 7.163 5 16 5s16-2.239 16-5v-6c0 2.761-7.163 5-16 5z\"></path>\n",
       "</symbol>\n",
       "<symbol id=\"icon-file-text2\" viewBox=\"0 0 32 32\">\n",
       "<path d=\"M28.681 7.159c-0.694-0.947-1.662-2.053-2.724-3.116s-2.169-2.030-3.116-2.724c-1.612-1.182-2.393-1.319-2.841-1.319h-15.5c-1.378 0-2.5 1.121-2.5 2.5v27c0 1.378 1.122 2.5 2.5 2.5h23c1.378 0 2.5-1.122 2.5-2.5v-19.5c0-0.448-0.137-1.23-1.319-2.841zM24.543 5.457c0.959 0.959 1.712 1.825 2.268 2.543h-4.811v-4.811c0.718 0.556 1.584 1.309 2.543 2.268zM28 29.5c0 0.271-0.229 0.5-0.5 0.5h-23c-0.271 0-0.5-0.229-0.5-0.5v-27c0-0.271 0.229-0.5 0.5-0.5 0 0 15.499-0 15.5 0v7c0 0.552 0.448 1 1 1h7v19.5z\"></path>\n",
       "<path d=\"M23 26h-14c-0.552 0-1-0.448-1-1s0.448-1 1-1h14c0.552 0 1 0.448 1 1s-0.448 1-1 1z\"></path>\n",
       "<path d=\"M23 22h-14c-0.552 0-1-0.448-1-1s0.448-1 1-1h14c0.552 0 1 0.448 1 1s-0.448 1-1 1z\"></path>\n",
       "<path d=\"M23 18h-14c-0.552 0-1-0.448-1-1s0.448-1 1-1h14c0.552 0 1 0.448 1 1s-0.448 1-1 1z\"></path>\n",
       "</symbol>\n",
       "</defs>\n",
       "</svg>\n",
       "<style>/* CSS stylesheet for displaying xarray objects in jupyterlab.\n",
       " *\n",
       " */\n",
       "\n",
       ":root {\n",
       "  --xr-font-color0: var(--jp-content-font-color0, rgba(0, 0, 0, 1));\n",
       "  --xr-font-color2: var(--jp-content-font-color2, rgba(0, 0, 0, 0.54));\n",
       "  --xr-font-color3: var(--jp-content-font-color3, rgba(0, 0, 0, 0.38));\n",
       "  --xr-border-color: var(--jp-border-color2, #e0e0e0);\n",
       "  --xr-disabled-color: var(--jp-layout-color3, #bdbdbd);\n",
       "  --xr-background-color: var(--jp-layout-color0, white);\n",
       "  --xr-background-color-row-even: var(--jp-layout-color1, white);\n",
       "  --xr-background-color-row-odd: var(--jp-layout-color2, #eeeeee);\n",
       "}\n",
       "\n",
       "html[theme=dark],\n",
       "body.vscode-dark {\n",
       "  --xr-font-color0: rgba(255, 255, 255, 1);\n",
       "  --xr-font-color2: rgba(255, 255, 255, 0.54);\n",
       "  --xr-font-color3: rgba(255, 255, 255, 0.38);\n",
       "  --xr-border-color: #1F1F1F;\n",
       "  --xr-disabled-color: #515151;\n",
       "  --xr-background-color: #111111;\n",
       "  --xr-background-color-row-even: #111111;\n",
       "  --xr-background-color-row-odd: #313131;\n",
       "}\n",
       "\n",
       ".xr-wrap {\n",
       "  display: block;\n",
       "  min-width: 300px;\n",
       "  max-width: 700px;\n",
       "}\n",
       "\n",
       ".xr-text-repr-fallback {\n",
       "  /* fallback to plain text repr when CSS is not injected (untrusted notebook) */\n",
       "  display: none;\n",
       "}\n",
       "\n",
       ".xr-header {\n",
       "  padding-top: 6px;\n",
       "  padding-bottom: 6px;\n",
       "  margin-bottom: 4px;\n",
       "  border-bottom: solid 1px var(--xr-border-color);\n",
       "}\n",
       "\n",
       ".xr-header > div,\n",
       ".xr-header > ul {\n",
       "  display: inline;\n",
       "  margin-top: 0;\n",
       "  margin-bottom: 0;\n",
       "}\n",
       "\n",
       ".xr-obj-type,\n",
       ".xr-array-name {\n",
       "  margin-left: 2px;\n",
       "  margin-right: 10px;\n",
       "}\n",
       "\n",
       ".xr-obj-type {\n",
       "  color: var(--xr-font-color2);\n",
       "}\n",
       "\n",
       ".xr-sections {\n",
       "  padding-left: 0 !important;\n",
       "  display: grid;\n",
       "  grid-template-columns: 150px auto auto 1fr 20px 20px;\n",
       "}\n",
       "\n",
       ".xr-section-item {\n",
       "  display: contents;\n",
       "}\n",
       "\n",
       ".xr-section-item input {\n",
       "  display: none;\n",
       "}\n",
       "\n",
       ".xr-section-item input + label {\n",
       "  color: var(--xr-disabled-color);\n",
       "}\n",
       "\n",
       ".xr-section-item input:enabled + label {\n",
       "  cursor: pointer;\n",
       "  color: var(--xr-font-color2);\n",
       "}\n",
       "\n",
       ".xr-section-item input:enabled + label:hover {\n",
       "  color: var(--xr-font-color0);\n",
       "}\n",
       "\n",
       ".xr-section-summary {\n",
       "  grid-column: 1;\n",
       "  color: var(--xr-font-color2);\n",
       "  font-weight: 500;\n",
       "}\n",
       "\n",
       ".xr-section-summary > span {\n",
       "  display: inline-block;\n",
       "  padding-left: 0.5em;\n",
       "}\n",
       "\n",
       ".xr-section-summary-in:disabled + label {\n",
       "  color: var(--xr-font-color2);\n",
       "}\n",
       "\n",
       ".xr-section-summary-in + label:before {\n",
       "  display: inline-block;\n",
       "  content: '►';\n",
       "  font-size: 11px;\n",
       "  width: 15px;\n",
       "  text-align: center;\n",
       "}\n",
       "\n",
       ".xr-section-summary-in:disabled + label:before {\n",
       "  color: var(--xr-disabled-color);\n",
       "}\n",
       "\n",
       ".xr-section-summary-in:checked + label:before {\n",
       "  content: '▼';\n",
       "}\n",
       "\n",
       ".xr-section-summary-in:checked + label > span {\n",
       "  display: none;\n",
       "}\n",
       "\n",
       ".xr-section-summary,\n",
       ".xr-section-inline-details {\n",
       "  padding-top: 4px;\n",
       "  padding-bottom: 4px;\n",
       "}\n",
       "\n",
       ".xr-section-inline-details {\n",
       "  grid-column: 2 / -1;\n",
       "}\n",
       "\n",
       ".xr-section-details {\n",
       "  display: none;\n",
       "  grid-column: 1 / -1;\n",
       "  margin-bottom: 5px;\n",
       "}\n",
       "\n",
       ".xr-section-summary-in:checked ~ .xr-section-details {\n",
       "  display: contents;\n",
       "}\n",
       "\n",
       ".xr-array-wrap {\n",
       "  grid-column: 1 / -1;\n",
       "  display: grid;\n",
       "  grid-template-columns: 20px auto;\n",
       "}\n",
       "\n",
       ".xr-array-wrap > label {\n",
       "  grid-column: 1;\n",
       "  vertical-align: top;\n",
       "}\n",
       "\n",
       ".xr-preview {\n",
       "  color: var(--xr-font-color3);\n",
       "}\n",
       "\n",
       ".xr-array-preview,\n",
       ".xr-array-data {\n",
       "  padding: 0 5px !important;\n",
       "  grid-column: 2;\n",
       "}\n",
       "\n",
       ".xr-array-data,\n",
       ".xr-array-in:checked ~ .xr-array-preview {\n",
       "  display: none;\n",
       "}\n",
       "\n",
       ".xr-array-in:checked ~ .xr-array-data,\n",
       ".xr-array-preview {\n",
       "  display: inline-block;\n",
       "}\n",
       "\n",
       ".xr-dim-list {\n",
       "  display: inline-block !important;\n",
       "  list-style: none;\n",
       "  padding: 0 !important;\n",
       "  margin: 0;\n",
       "}\n",
       "\n",
       ".xr-dim-list li {\n",
       "  display: inline-block;\n",
       "  padding: 0;\n",
       "  margin: 0;\n",
       "}\n",
       "\n",
       ".xr-dim-list:before {\n",
       "  content: '(';\n",
       "}\n",
       "\n",
       ".xr-dim-list:after {\n",
       "  content: ')';\n",
       "}\n",
       "\n",
       ".xr-dim-list li:not(:last-child):after {\n",
       "  content: ',';\n",
       "  padding-right: 5px;\n",
       "}\n",
       "\n",
       ".xr-has-index {\n",
       "  font-weight: bold;\n",
       "}\n",
       "\n",
       ".xr-var-list,\n",
       ".xr-var-item {\n",
       "  display: contents;\n",
       "}\n",
       "\n",
       ".xr-var-item > div,\n",
       ".xr-var-item label,\n",
       ".xr-var-item > .xr-var-name span {\n",
       "  background-color: var(--xr-background-color-row-even);\n",
       "  margin-bottom: 0;\n",
       "}\n",
       "\n",
       ".xr-var-item > .xr-var-name:hover span {\n",
       "  padding-right: 5px;\n",
       "}\n",
       "\n",
       ".xr-var-list > li:nth-child(odd) > div,\n",
       ".xr-var-list > li:nth-child(odd) > label,\n",
       ".xr-var-list > li:nth-child(odd) > .xr-var-name span {\n",
       "  background-color: var(--xr-background-color-row-odd);\n",
       "}\n",
       "\n",
       ".xr-var-name {\n",
       "  grid-column: 1;\n",
       "}\n",
       "\n",
       ".xr-var-dims {\n",
       "  grid-column: 2;\n",
       "}\n",
       "\n",
       ".xr-var-dtype {\n",
       "  grid-column: 3;\n",
       "  text-align: right;\n",
       "  color: var(--xr-font-color2);\n",
       "}\n",
       "\n",
       ".xr-var-preview {\n",
       "  grid-column: 4;\n",
       "}\n",
       "\n",
       ".xr-var-name,\n",
       ".xr-var-dims,\n",
       ".xr-var-dtype,\n",
       ".xr-preview,\n",
       ".xr-attrs dt {\n",
       "  white-space: nowrap;\n",
       "  overflow: hidden;\n",
       "  text-overflow: ellipsis;\n",
       "  padding-right: 10px;\n",
       "}\n",
       "\n",
       ".xr-var-name:hover,\n",
       ".xr-var-dims:hover,\n",
       ".xr-var-dtype:hover,\n",
       ".xr-attrs dt:hover {\n",
       "  overflow: visible;\n",
       "  width: auto;\n",
       "  z-index: 1;\n",
       "}\n",
       "\n",
       ".xr-var-attrs,\n",
       ".xr-var-data {\n",
       "  display: none;\n",
       "  background-color: var(--xr-background-color) !important;\n",
       "  padding-bottom: 5px !important;\n",
       "}\n",
       "\n",
       ".xr-var-attrs-in:checked ~ .xr-var-attrs,\n",
       ".xr-var-data-in:checked ~ .xr-var-data {\n",
       "  display: block;\n",
       "}\n",
       "\n",
       ".xr-var-data > table {\n",
       "  float: right;\n",
       "}\n",
       "\n",
       ".xr-var-name span,\n",
       ".xr-var-data,\n",
       ".xr-attrs {\n",
       "  padding-left: 25px !important;\n",
       "}\n",
       "\n",
       ".xr-attrs,\n",
       ".xr-var-attrs,\n",
       ".xr-var-data {\n",
       "  grid-column: 1 / -1;\n",
       "}\n",
       "\n",
       "dl.xr-attrs {\n",
       "  padding: 0;\n",
       "  margin: 0;\n",
       "  display: grid;\n",
       "  grid-template-columns: 125px auto;\n",
       "}\n",
       "\n",
       ".xr-attrs dt,\n",
       ".xr-attrs dd {\n",
       "  padding: 0;\n",
       "  margin: 0;\n",
       "  float: left;\n",
       "  padding-right: 10px;\n",
       "  width: auto;\n",
       "}\n",
       "\n",
       ".xr-attrs dt {\n",
       "  font-weight: normal;\n",
       "  grid-column: 1;\n",
       "}\n",
       "\n",
       ".xr-attrs dt:hover span {\n",
       "  display: inline-block;\n",
       "  background: var(--xr-background-color);\n",
       "  padding-right: 10px;\n",
       "}\n",
       "\n",
       ".xr-attrs dd {\n",
       "  grid-column: 2;\n",
       "  white-space: pre-wrap;\n",
       "  word-break: break-all;\n",
       "}\n",
       "\n",
       ".xr-icon-database,\n",
       ".xr-icon-file-text2 {\n",
       "  display: inline-block;\n",
       "  vertical-align: middle;\n",
       "  width: 1em;\n",
       "  height: 1.5em !important;\n",
       "  stroke-width: 0;\n",
       "  stroke: currentColor;\n",
       "  fill: currentColor;\n",
       "}\n",
       "</style><pre class='xr-text-repr-fallback'>&lt;xarray.Dataset&gt;\n",
       "Dimensions:      (nsegment: 58489, time: 14975)\n",
       "Coordinates:\n",
       "  * time         (time) datetime64[ns] 1979-01-01 1979-01-02 ... 2019-12-31\n",
       "  * nsegment     (nsegment) int32 1 2 3 4 5 6 ... 58485 58486 58487 58488 58489\n",
       "Data variables:\n",
       "    nhm_seg      (nsegment) int32 1 10 2 5 3 4 ... 58482 58483 58484 58485 58486\n",
       "    seg_outflow  (time, nsegment) float32 ...\n",
       "Attributes:\n",
       "    DODS_EXTRA.Unlimited_Dimension:  time</pre><div class='xr-wrap' hidden><div class='xr-header'><div class='xr-obj-type'>xarray.Dataset</div></div><ul class='xr-sections'><li class='xr-section-item'><input id='section-4fc13f94-957b-4f69-be34-67e0078e8d67' class='xr-section-summary-in' type='checkbox' disabled ><label for='section-4fc13f94-957b-4f69-be34-67e0078e8d67' class='xr-section-summary'  title='Expand/collapse section'>Dimensions:</label><div class='xr-section-inline-details'><ul class='xr-dim-list'><li><span class='xr-has-index'>nsegment</span>: 58489</li><li><span class='xr-has-index'>time</span>: 14975</li></ul></div><div class='xr-section-details'></div></li><li class='xr-section-item'><input id='section-d9c7d744-cb47-4802-85b8-a26bcfa37d99' class='xr-section-summary-in' type='checkbox'  checked><label for='section-d9c7d744-cb47-4802-85b8-a26bcfa37d99' class='xr-section-summary' >Coordinates: <span>(2)</span></label><div class='xr-section-inline-details'></div><div class='xr-section-details'><ul class='xr-var-list'><li class='xr-var-item'><div class='xr-var-name'><span class='xr-has-index'>time</span></div><div class='xr-var-dims'>(time)</div><div class='xr-var-dtype'>datetime64[ns]</div><div class='xr-var-preview xr-preview'>1979-01-01 ... 2019-12-31</div><input id='attrs-9b170b1e-71a1-4139-9349-24967cbb74ac' class='xr-var-attrs-in' type='checkbox' ><label for='attrs-9b170b1e-71a1-4139-9349-24967cbb74ac' title='Show/Hide attributes'><svg class='icon xr-icon-file-text2'><use xlink:href='#icon-file-text2'></use></svg></label><input id='data-510b97b7-6078-4e5a-80da-c2cade2908c2' class='xr-var-data-in' type='checkbox'><label for='data-510b97b7-6078-4e5a-80da-c2cade2908c2' title='Show/Hide data repr'><svg class='icon xr-icon-database'><use xlink:href='#icon-database'></use></svg></label><div class='xr-var-attrs'><dl class='xr-attrs'><dt><span>_ChunkSizes :</span></dt><dd>1024</dd></dl></div><div class='xr-var-data'><pre>array([&#x27;1979-01-01T00:00:00.000000000&#x27;, &#x27;1979-01-02T00:00:00.000000000&#x27;,\n",
       "       &#x27;1979-01-03T00:00:00.000000000&#x27;, ..., &#x27;2019-12-29T00:00:00.000000000&#x27;,\n",
       "       &#x27;2019-12-30T00:00:00.000000000&#x27;, &#x27;2019-12-31T00:00:00.000000000&#x27;],\n",
       "      dtype=&#x27;datetime64[ns]&#x27;)</pre></div></li><li class='xr-var-item'><div class='xr-var-name'><span class='xr-has-index'>nsegment</span></div><div class='xr-var-dims'>(nsegment)</div><div class='xr-var-dtype'>int32</div><div class='xr-var-preview xr-preview'>1 2 3 4 ... 58486 58487 58488 58489</div><input id='attrs-a328fc9b-9ed7-4162-b0f6-b22b7d3b8db0' class='xr-var-attrs-in' type='checkbox' ><label for='attrs-a328fc9b-9ed7-4162-b0f6-b22b7d3b8db0' title='Show/Hide attributes'><svg class='icon xr-icon-file-text2'><use xlink:href='#icon-file-text2'></use></svg></label><input id='data-a9aa5771-cef5-4b23-925a-bd980041bdfe' class='xr-var-data-in' type='checkbox'><label for='data-a9aa5771-cef5-4b23-925a-bd980041bdfe' title='Show/Hide data repr'><svg class='icon xr-icon-database'><use xlink:href='#icon-database'></use></svg></label><div class='xr-var-attrs'><dl class='xr-attrs'><dt><span>long_name :</span></dt><dd>Local model segment ID</dd></dl></div><div class='xr-var-data'><pre>array([    1,     2,     3, ..., 58487, 58488, 58489])</pre></div></li></ul></div></li><li class='xr-section-item'><input id='section-1ad11135-ff9b-4290-a513-bd18d6070d61' class='xr-section-summary-in' type='checkbox'  checked><label for='section-1ad11135-ff9b-4290-a513-bd18d6070d61' class='xr-section-summary' >Data variables: <span>(2)</span></label><div class='xr-section-inline-details'></div><div class='xr-section-details'><ul class='xr-var-list'><li class='xr-var-item'><div class='xr-var-name'><span>nhm_seg</span></div><div class='xr-var-dims'>(nsegment)</div><div class='xr-var-dtype'>int32</div><div class='xr-var-preview xr-preview'>...</div><input id='attrs-33a06903-41cd-4205-92b4-d8f88206a701' class='xr-var-attrs-in' type='checkbox' ><label for='attrs-33a06903-41cd-4205-92b4-d8f88206a701' title='Show/Hide attributes'><svg class='icon xr-icon-file-text2'><use xlink:href='#icon-file-text2'></use></svg></label><input id='data-bf717605-d5ab-492c-a2de-3f509b43b279' class='xr-var-data-in' type='checkbox'><label for='data-bf717605-d5ab-492c-a2de-3f509b43b279' title='Show/Hide data repr'><svg class='icon xr-icon-database'><use xlink:href='#icon-database'></use></svg></label><div class='xr-var-attrs'><dl class='xr-attrs'><dt><span>long_name :</span></dt><dd>NHM segment ID</dd></dl></div><div class='xr-var-data'><pre>array([    1,    10,     2, ..., 58484, 58485, 58486])</pre></div></li><li class='xr-var-item'><div class='xr-var-name'><span>seg_outflow</span></div><div class='xr-var-dims'>(time, nsegment)</div><div class='xr-var-dtype'>float32</div><div class='xr-var-preview xr-preview'>...</div><input id='attrs-569923f2-fe74-4a26-9b8e-db3fe88d2857' class='xr-var-attrs-in' type='checkbox' ><label for='attrs-569923f2-fe74-4a26-9b8e-db3fe88d2857' title='Show/Hide attributes'><svg class='icon xr-icon-file-text2'><use xlink:href='#icon-file-text2'></use></svg></label><input id='data-9e5de14c-9be8-4220-ac72-34fe8e09e356' class='xr-var-data-in' type='checkbox'><label for='data-9e5de14c-9be8-4220-ac72-34fe8e09e356' title='Show/Hide data repr'><svg class='icon xr-icon-database'><use xlink:href='#icon-database'></use></svg></label><div class='xr-var-attrs'><dl class='xr-attrs'><dt><span>long_name :</span></dt><dd>Streamflow leaving a segment</dd><dt><span>units :</span></dt><dd>cfs</dd><dt><span>_ChunkSizes :</span></dt><dd>[ 46 178]</dd></dl></div><div class='xr-var-data'><pre>[875872775 values with dtype=float32]</pre></div></li></ul></div></li><li class='xr-section-item'><input id='section-a9d317e0-26ee-436d-9526-2b85f7f623d4' class='xr-section-summary-in' type='checkbox'  checked><label for='section-a9d317e0-26ee-436d-9526-2b85f7f623d4' class='xr-section-summary' >Attributes: <span>(1)</span></label><div class='xr-section-inline-details'></div><div class='xr-section-details'><dl class='xr-attrs'><dt><span>DODS_EXTRA.Unlimited_Dimension :</span></dt><dd>time</dd></dl></div></li></ul></div></div>"
      ],
      "text/plain": [
       "<xarray.Dataset>\n",
       "Dimensions:      (nsegment: 58489, time: 14975)\n",
       "Coordinates:\n",
       "  * time         (time) datetime64[ns] 1979-01-01 1979-01-02 ... 2019-12-31\n",
       "  * nsegment     (nsegment) int32 1 2 3 4 5 6 ... 58485 58486 58487 58488 58489\n",
       "Data variables:\n",
       "    nhm_seg      (nsegment) int32 ...\n",
       "    seg_outflow  (time, nsegment) float32 ...\n",
       "Attributes:\n",
       "    DODS_EXTRA.Unlimited_Dimension:  time"
      ]
     },
     "execution_count": 7,
     "metadata": {},
     "output_type": "execute_result"
    }
   ],
   "source": [
    "data"
   ]
  },
  {
   "cell_type": "markdown",
   "metadata": {},
   "source": [
    "## Connect NHM Model ouput on THREDDS with NLDI.\n",
    "* use GFv11 POI interest, which contains NHD comid for each stream segment.\n",
    "* GFv11 POIs made available to NLDI through geoconnex\n",
    "\n",
    "## Use hyriver python tools which have a nice wrapper around NLDI and NWIS\n",
    "* https://hyriver.readthedocs.io/en/latest/"
   ]
  },
  {
   "cell_type": "code",
   "execution_count": 8,
   "metadata": {},
   "outputs": [],
   "source": [
    "import hydrodata as hd\n",
    "from hydrodata import NWIS, plot\n",
    "from pynhd import NLDI, NHDPlusHR, WaterData"
   ]
  },
  {
   "cell_type": "markdown",
   "metadata": {},
   "source": [
    "### Search NLDI by navigating above USGS-09112500 EAST RIVER AT ALMONT, CO\n",
    "* grab all comids and gages on main flowline.  \n",
    "* Use station comids to filter NHM POIs\n",
    "<!-- ![East River](NLDI_Gage_image.jpg) -->"
   ]
  },
  {
   "cell_type": "code",
   "execution_count": 9,
   "metadata": {},
   "outputs": [],
   "source": [
    "gage_id = '09112500'\n",
    "nldi_flw_main = NLDI().navigate_byid(fsource=\"nwissite\",\n",
    "                             fid=f\"USGS-{gage_id}\",\n",
    "                             navigation=\"upstreamMain\",\n",
    "                             source=\"flowlines\",\n",
    "                             distance=50)\n",
    "\n",
    "nldi_st_all = NLDI().navigate_byid(fsource=\"nwissite\",\n",
    "                             fid=f\"USGS-{gage_id}\",\n",
    "                             navigation=\"upstreamMain\",\n",
    "                             source=\"nwissite\",\n",
    "                             distance=50)\n",
    "\n",
    "nldi_POI_all = NLDI().navigate_byid(fsource=\"nwissite\",\n",
    "                             fid=f\"USGS-{gage_id}\",\n",
    "                             navigation=\"upstreamMain\",\n",
    "                             source=\"gfv11_pois\",\n",
    "                             distance=50)"
   ]
  },
  {
   "cell_type": "code",
   "execution_count": 10,
   "metadata": {},
   "outputs": [
    {
     "data": {
      "text/html": [
       "<div>\n",
       "<style scoped>\n",
       "    .dataframe tbody tr th:only-of-type {\n",
       "        vertical-align: middle;\n",
       "    }\n",
       "\n",
       "    .dataframe tbody tr th {\n",
       "        vertical-align: top;\n",
       "    }\n",
       "\n",
       "    .dataframe thead th {\n",
       "        text-align: right;\n",
       "    }\n",
       "</style>\n",
       "<table border=\"1\" class=\"dataframe\">\n",
       "  <thead>\n",
       "    <tr style=\"text-align: right;\">\n",
       "      <th></th>\n",
       "      <th>geometry</th>\n",
       "      <th>nhdplus_comid</th>\n",
       "    </tr>\n",
       "  </thead>\n",
       "  <tbody>\n",
       "    <tr>\n",
       "      <th>0</th>\n",
       "      <td>LINESTRING (-106.85461 38.67733, -106.85455 38...</td>\n",
       "      <td>1333418</td>\n",
       "    </tr>\n",
       "    <tr>\n",
       "      <th>1</th>\n",
       "      <td>LINESTRING (-106.85759 38.69055, -106.85741 38...</td>\n",
       "      <td>1333402</td>\n",
       "    </tr>\n",
       "    <tr>\n",
       "      <th>2</th>\n",
       "      <td>LINESTRING (-106.85145 38.70254, -106.85148 38...</td>\n",
       "      <td>1333386</td>\n",
       "    </tr>\n",
       "    <tr>\n",
       "      <th>3</th>\n",
       "      <td>LINESTRING (-106.85075 38.70790, -106.85069 38...</td>\n",
       "      <td>1333374</td>\n",
       "    </tr>\n",
       "    <tr>\n",
       "      <th>4</th>\n",
       "      <td>LINESTRING (-106.85069 38.71094, -106.85075 38...</td>\n",
       "      <td>1333362</td>\n",
       "    </tr>\n",
       "  </tbody>\n",
       "</table>\n",
       "</div>"
      ],
      "text/plain": [
       "                                            geometry nhdplus_comid\n",
       "0  LINESTRING (-106.85461 38.67733, -106.85455 38...       1333418\n",
       "1  LINESTRING (-106.85759 38.69055, -106.85741 38...       1333402\n",
       "2  LINESTRING (-106.85145 38.70254, -106.85148 38...       1333386\n",
       "3  LINESTRING (-106.85075 38.70790, -106.85069 38...       1333374\n",
       "4  LINESTRING (-106.85069 38.71094, -106.85075 38...       1333362"
      ]
     },
     "execution_count": 10,
     "metadata": {},
     "output_type": "execute_result"
    }
   ],
   "source": [
    "nldi_flw_main.head()"
   ]
  },
  {
   "cell_type": "code",
   "execution_count": 11,
   "metadata": {},
   "outputs": [
    {
     "data": {
      "text/html": [
       "<div>\n",
       "<style scoped>\n",
       "    .dataframe tbody tr th:only-of-type {\n",
       "        vertical-align: middle;\n",
       "    }\n",
       "\n",
       "    .dataframe tbody tr th {\n",
       "        vertical-align: top;\n",
       "    }\n",
       "\n",
       "    .dataframe thead th {\n",
       "        text-align: right;\n",
       "    }\n",
       "</style>\n",
       "<table border=\"1\" class=\"dataframe\">\n",
       "  <thead>\n",
       "    <tr style=\"text-align: right;\">\n",
       "      <th></th>\n",
       "      <th>geometry</th>\n",
       "      <th>source</th>\n",
       "      <th>sourceName</th>\n",
       "      <th>identifier</th>\n",
       "      <th>name</th>\n",
       "      <th>uri</th>\n",
       "      <th>comid</th>\n",
       "      <th>reachcode</th>\n",
       "      <th>measure</th>\n",
       "      <th>navigation</th>\n",
       "    </tr>\n",
       "  </thead>\n",
       "  <tbody>\n",
       "    <tr>\n",
       "      <th>0</th>\n",
       "      <td>POINT (-106.95600 38.92717)</td>\n",
       "      <td>nwissite</td>\n",
       "      <td>NWIS Sites</td>\n",
       "      <td>USGS-385538106572201</td>\n",
       "      <td>Y0955 EAST RV AT SEEP T123, BLW GOTHIC</td>\n",
       "      <td>https://waterdata.usgs.gov/monitoring-location...</td>\n",
       "      <td>1332754</td>\n",
       "      <td>14020001000115</td>\n",
       "      <td>34.4832761519</td>\n",
       "      <td>https://labs.waterdata.usgs.gov/api/nldi/linke...</td>\n",
       "    </tr>\n",
       "    <tr>\n",
       "      <th>1</th>\n",
       "      <td>POINT (-106.95362 38.92327)</td>\n",
       "      <td>nwissite</td>\n",
       "      <td>NWIS Sites</td>\n",
       "      <td>USGS-385524106571401</td>\n",
       "      <td>EAST RIVER AT UNAMED TRIB, ABV PUMP HOUSE, MCB</td>\n",
       "      <td>https://waterdata.usgs.gov/monitoring-location...</td>\n",
       "      <td>1332754</td>\n",
       "      <td>14020001000115</td>\n",
       "      <td>25.3877567152</td>\n",
       "      <td>https://labs.waterdata.usgs.gov/api/nldi/linke...</td>\n",
       "    </tr>\n",
       "    <tr>\n",
       "      <th>2</th>\n",
       "      <td>POINT (-106.96671 38.93582)</td>\n",
       "      <td>nwissite</td>\n",
       "      <td>NWIS Sites</td>\n",
       "      <td>USGS-385609106575800</td>\n",
       "      <td>EAST RIVER BELOW GOTHIC</td>\n",
       "      <td>https://waterdata.usgs.gov/monitoring-location...</td>\n",
       "      <td>1332754</td>\n",
       "      <td>14020001000115</td>\n",
       "      <td>60.0175452656</td>\n",
       "      <td>https://labs.waterdata.usgs.gov/api/nldi/linke...</td>\n",
       "    </tr>\n",
       "    <tr>\n",
       "      <th>3</th>\n",
       "      <td>POINT (-106.95639 38.92694)</td>\n",
       "      <td>nwissite</td>\n",
       "      <td>NWIS Sites</td>\n",
       "      <td>USGS-385537106572301</td>\n",
       "      <td>SW03 UNAMED BEAVER POND 2 W OF EAST RIVER, GOTHIC</td>\n",
       "      <td>https://waterdata.usgs.gov/monitoring-location...</td>\n",
       "      <td>1332754</td>\n",
       "      <td>14020001000115</td>\n",
       "      <td>34.4832761519</td>\n",
       "      <td>https://labs.waterdata.usgs.gov/api/nldi/linke...</td>\n",
       "    </tr>\n",
       "    <tr>\n",
       "      <th>4</th>\n",
       "      <td>POINT (-106.85143 38.71610)</td>\n",
       "      <td>nwissite</td>\n",
       "      <td>NWIS Sites</td>\n",
       "      <td>USGS-384258106510300</td>\n",
       "      <td>EAST R AT ROARING JUDY HATCHERY NEAR ALMONT, CO</td>\n",
       "      <td>https://waterdata.usgs.gov/monitoring-location...</td>\n",
       "      <td>1333344</td>\n",
       "      <td>14020001000461</td>\n",
       "      <td>56.6094443410</td>\n",
       "      <td>https://labs.waterdata.usgs.gov/api/nldi/linke...</td>\n",
       "    </tr>\n",
       "  </tbody>\n",
       "</table>\n",
       "</div>"
      ],
      "text/plain": [
       "                      geometry    source  sourceName            identifier  \\\n",
       "0  POINT (-106.95600 38.92717)  nwissite  NWIS Sites  USGS-385538106572201   \n",
       "1  POINT (-106.95362 38.92327)  nwissite  NWIS Sites  USGS-385524106571401   \n",
       "2  POINT (-106.96671 38.93582)  nwissite  NWIS Sites  USGS-385609106575800   \n",
       "3  POINT (-106.95639 38.92694)  nwissite  NWIS Sites  USGS-385537106572301   \n",
       "4  POINT (-106.85143 38.71610)  nwissite  NWIS Sites  USGS-384258106510300   \n",
       "\n",
       "                                                name  \\\n",
       "0             Y0955 EAST RV AT SEEP T123, BLW GOTHIC   \n",
       "1     EAST RIVER AT UNAMED TRIB, ABV PUMP HOUSE, MCB   \n",
       "2                            EAST RIVER BELOW GOTHIC   \n",
       "3  SW03 UNAMED BEAVER POND 2 W OF EAST RIVER, GOTHIC   \n",
       "4    EAST R AT ROARING JUDY HATCHERY NEAR ALMONT, CO   \n",
       "\n",
       "                                                 uri    comid       reachcode  \\\n",
       "0  https://waterdata.usgs.gov/monitoring-location...  1332754  14020001000115   \n",
       "1  https://waterdata.usgs.gov/monitoring-location...  1332754  14020001000115   \n",
       "2  https://waterdata.usgs.gov/monitoring-location...  1332754  14020001000115   \n",
       "3  https://waterdata.usgs.gov/monitoring-location...  1332754  14020001000115   \n",
       "4  https://waterdata.usgs.gov/monitoring-location...  1333344  14020001000461   \n",
       "\n",
       "         measure                                         navigation  \n",
       "0  34.4832761519  https://labs.waterdata.usgs.gov/api/nldi/linke...  \n",
       "1  25.3877567152  https://labs.waterdata.usgs.gov/api/nldi/linke...  \n",
       "2  60.0175452656  https://labs.waterdata.usgs.gov/api/nldi/linke...  \n",
       "3  34.4832761519  https://labs.waterdata.usgs.gov/api/nldi/linke...  \n",
       "4  56.6094443410  https://labs.waterdata.usgs.gov/api/nldi/linke...  "
      ]
     },
     "execution_count": 11,
     "metadata": {},
     "output_type": "execute_result"
    }
   ],
   "source": [
    "nldi_st_all.head()"
   ]
  },
  {
   "cell_type": "code",
   "execution_count": 12,
   "metadata": {},
   "outputs": [
    {
     "data": {
      "text/html": [
       "<div>\n",
       "<style scoped>\n",
       "    .dataframe tbody tr th:only-of-type {\n",
       "        vertical-align: middle;\n",
       "    }\n",
       "\n",
       "    .dataframe tbody tr th {\n",
       "        vertical-align: top;\n",
       "    }\n",
       "\n",
       "    .dataframe thead th {\n",
       "        text-align: right;\n",
       "    }\n",
       "</style>\n",
       "<table border=\"1\" class=\"dataframe\">\n",
       "  <thead>\n",
       "    <tr style=\"text-align: right;\">\n",
       "      <th></th>\n",
       "      <th>geometry</th>\n",
       "      <th>source</th>\n",
       "      <th>sourceName</th>\n",
       "      <th>identifier</th>\n",
       "      <th>name</th>\n",
       "      <th>uri</th>\n",
       "      <th>comid</th>\n",
       "      <th>reachcode</th>\n",
       "      <th>measure</th>\n",
       "      <th>navigation</th>\n",
       "    </tr>\n",
       "  </thead>\n",
       "  <tbody>\n",
       "    <tr>\n",
       "      <th>0</th>\n",
       "      <td>POINT (-106.87287 38.77568)</td>\n",
       "      <td>gfv11_pois</td>\n",
       "      <td>USGS Geospatial Fabric V1.1 Points of Interest</td>\n",
       "      <td>42953</td>\n",
       "      <td>East River</td>\n",
       "      <td>https://geoconnex.us/usgs/gfv11_pois/42953</td>\n",
       "      <td>1333208</td>\n",
       "      <td>14020001000462</td>\n",
       "      <td>0E-10</td>\n",
       "      <td>https://labs.waterdata.usgs.gov/api/nldi/linke...</td>\n",
       "    </tr>\n",
       "    <tr>\n",
       "      <th>1</th>\n",
       "      <td>POINT (-106.84702 38.66359)</td>\n",
       "      <td>gfv11_pois</td>\n",
       "      <td>USGS Geospatial Fabric V1.1 Points of Interest</td>\n",
       "      <td>42954</td>\n",
       "      <td>East River</td>\n",
       "      <td>https://geoconnex.us/usgs/gfv11_pois/42954</td>\n",
       "      <td>1333418</td>\n",
       "      <td>14020001000448</td>\n",
       "      <td>0E-10</td>\n",
       "      <td>https://labs.waterdata.usgs.gov/api/nldi/linke...</td>\n",
       "    </tr>\n",
       "    <tr>\n",
       "      <th>2</th>\n",
       "      <td>POINT (-106.90841 38.88061)</td>\n",
       "      <td>gfv11_pois</td>\n",
       "      <td>USGS Geospatial Fabric V1.1 Points of Interest</td>\n",
       "      <td>42949</td>\n",
       "      <td>East River</td>\n",
       "      <td>https://geoconnex.us/usgs/gfv11_pois/42949</td>\n",
       "      <td>1332888</td>\n",
       "      <td>14020001000112</td>\n",
       "      <td>0E-10</td>\n",
       "      <td>https://labs.waterdata.usgs.gov/api/nldi/linke...</td>\n",
       "    </tr>\n",
       "  </tbody>\n",
       "</table>\n",
       "</div>"
      ],
      "text/plain": [
       "                      geometry      source  \\\n",
       "0  POINT (-106.87287 38.77568)  gfv11_pois   \n",
       "1  POINT (-106.84702 38.66359)  gfv11_pois   \n",
       "2  POINT (-106.90841 38.88061)  gfv11_pois   \n",
       "\n",
       "                                       sourceName identifier        name  \\\n",
       "0  USGS Geospatial Fabric V1.1 Points of Interest      42953  East River   \n",
       "1  USGS Geospatial Fabric V1.1 Points of Interest      42954  East River   \n",
       "2  USGS Geospatial Fabric V1.1 Points of Interest      42949  East River   \n",
       "\n",
       "                                          uri    comid       reachcode  \\\n",
       "0  https://geoconnex.us/usgs/gfv11_pois/42953  1333208  14020001000462   \n",
       "1  https://geoconnex.us/usgs/gfv11_pois/42954  1333418  14020001000448   \n",
       "2  https://geoconnex.us/usgs/gfv11_pois/42949  1332888  14020001000112   \n",
       "\n",
       "  measure                                         navigation  \n",
       "0   0E-10  https://labs.waterdata.usgs.gov/api/nldi/linke...  \n",
       "1   0E-10  https://labs.waterdata.usgs.gov/api/nldi/linke...  \n",
       "2   0E-10  https://labs.waterdata.usgs.gov/api/nldi/linke...  "
      ]
     },
     "execution_count": 12,
     "metadata": {},
     "output_type": "execute_result"
    }
   ],
   "source": [
    "nldi_POI_all"
   ]
  },
  {
   "cell_type": "code",
   "execution_count": 13,
   "metadata": {},
   "outputs": [
    {
     "data": {
      "image/png": "[encoded data removed]",
      "text/plain": [
       "<Figure size 600x400 with 1 Axes>"
      ]
     },
     "metadata": {
      "needs_background": "light"
     },
     "output_type": "display_data"
    }
   ],
   "source": [
    "ax = nldi_flw_main.plot(\n",
    "    lw=3, color=\"r\", zorder=2, label=\"Mainstem\"\n",
    ")\n",
    "nldi_st_all.plot(\n",
    "    ax = ax, label=\"USGS stations\", marker=\"o\", markersize=3, zorder=4, color=\"b\"\n",
    ")\n",
    "nldi_st_all.plot(\n",
    "    ax = ax, label=\"gv11_pois\", marker=\"+\", markersize=24, zorder=3, color=\"black\"\n",
    ")\n",
    "ax.legend(bbox_to_anchor=(0.6, -0.15))\n",
    "ax.set_aspect(\"equal\")\n",
    "ax.figure.set_dpi(100)"
   ]
  },
  {
   "cell_type": "code",
   "execution_count": 14,
   "metadata": {},
   "outputs": [
    {
     "name": "stdout",
     "output_type": "stream",
     "text": [
      "1333418\n"
     ]
    }
   ],
   "source": [
    "# Get comid for gage of interest USGS-09112500\n",
    "st = nldi_st_all.loc[nldi_st_all['identifier'] == 'USGS-09112500']\n",
    "st_comid = st['comid'].values[0]\n",
    "print(st['comid'].values[0])"
   ]
  },
  {
   "cell_type": "code",
   "execution_count": 15,
   "metadata": {},
   "outputs": [
    {
     "name": "stdout",
     "output_type": "stream",
     "text": [
      "42954\n"
     ]
    }
   ],
   "source": [
    "# find identifier in nldi_POI_all that has comid = gage of interest\n",
    "poi = nldi_POI_all.loc[nldi_POI_all['comid'] == st_comid]\n",
    "# NHM stream segment is the identifier in poi\n",
    "nhm_seg_id = int(poi['identifier'].values[0])\n",
    "print(nhm_seg_id)"
   ]
  },
  {
   "cell_type": "markdown",
   "metadata": {},
   "source": [
    "## Plot segment outflow for nhm_seg_id by selecting the segment in data returned from THREDDS"
   ]
  },
  {
   "cell_type": "code",
   "execution_count": 16,
   "metadata": {},
   "outputs": [],
   "source": [
    "nhm_seg_ouflow = data.isel(nsegment=nhm_seg_id)\n",
    "nhm_seg_ouflow_cms = nhm_seg_ouflow.seg_outflow * 0.02381"
   ]
  },
  {
   "cell_type": "code",
   "execution_count": 17,
   "metadata": {},
   "outputs": [
    {
     "data": {
      "image/png": "[encoded data removed]",
      "text/plain": [
       "<Figure size 432x288 with 1 Axes>"
      ]
     },
     "metadata": {
      "needs_background": "light"
     },
     "output_type": "display_data"
    }
   ],
   "source": [
    "ax = nhm_seg_ouflow.seg_outflow.plot()"
   ]
  },
  {
   "cell_type": "markdown",
   "metadata": {},
   "source": [
    "### Retrieve NWIS data and plot comparison of measured and simulated flow at gage of interest\n",
    "* hydrodata NWIS package (NWIS)\n"
   ]
  },
  {
   "cell_type": "code",
   "execution_count": 18,
   "metadata": {},
   "outputs": [],
   "source": [
    "from hydrodata import NWIS\n",
    "site='09112500'\n",
    "qobs = NWIS().get_streamflow(site, (\"1980-01-01\", \"2007-12-31\"))"
   ]
  },
  {
   "cell_type": "markdown",
   "metadata": {},
   "source": [
    "# Comparison of observed vs simulated"
   ]
  },
  {
   "cell_type": "code",
   "execution_count": 19,
   "metadata": {},
   "outputs": [
    {
     "data": {
      "text/plain": [
       "<matplotlib.legend.Legend at 0x23b7f009190>"
      ]
     },
     "execution_count": 19,
     "metadata": {},
     "output_type": "execute_result"
    },
    {
     "data": {
      "image/png": "[encoded data removed]",
      "text/plain": [
       "<Figure size 864x288 with 1 Axes>"
      ]
     },
     "metadata": {
      "needs_background": "light"
     },
     "output_type": "display_data"
    }
   ],
   "source": [
    "fig, axs = plt.subplots(figsize=(12, 4))\n",
    "qobs['USGS-09112500'].plot(ax=axs, label=\"observed\")\n",
    "nhm_seg_ouflow_cms.plot(ax=axs, label=\"simulated\")\n",
    "axs.legend()"
   ]
  },
  {
   "cell_type": "code",
   "execution_count": null,
   "metadata": {},
   "outputs": [],
   "source": []
  }
 ],
 "metadata": {
  "kernelspec": {
   "display_name": "Python 3",
   "language": "python",
   "name": "python3"
  },
  "language_info": {
   "codemirror_mode": {
    "name": "ipython",
    "version": 3
   },
   "file_extension": ".py",
   "mimetype": "text/x-python",
   "name": "python",
   "nbconvert_exporter": "python",
   "pygments_lexer": "ipython3",
   "version": "3.8.6"
  }
 },
 "nbformat": 4,
 "nbformat_minor": 5
}
